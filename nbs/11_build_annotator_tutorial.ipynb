{
 "cells": [
  {
   "cell_type": "markdown",
   "id": "ad7b2ebb",
   "metadata": {},
   "source": [
    "# Build Annotator Tutorial\n",
    "\n",
    "The current notebook will demonstrate how to build new annotators. \n",
    "\n",
    "Ipyannotator architecture uses four main layers:\n",
    "- The **View** is the layer responsable for render the visualization. Ipyannotator uses [ipycanvas](https://ipycanvas.readthedocs.io/en/latest/) and [ipywidgets](https://ipywidgets.readthedocs.io/en/latest/) to structure and mount the visualization layer, but we also develop some internal components like the Navi (that help our users to navigate throught the images that will be annotated).\n",
    "- The **Storage** is the layer that receive the data and stores. Ipyannotator uses different types of storage like txt, sqlite.\n",
    "- The **Controller** is the layer that acts like a mediator between the state, storage and view. This layers tells when the information from the state will be stored. \n",
    "- **\"Model/State (in memory)\"** is the central place of the Ipyannotator layer structure is the \"Model/State (in memory)\" that centralize the data and make sure to sync it across the application. If something changes on the Model/State then other layers can listen and sync the information.\n",
    "\n",
    "\n",
    "The image below shows an example of how the layers are structured and how its communications are made. \n",
    "\n",
    "The annotator developed in the current notebook was a minimal one called CircleAnnotator, that draws a circle every time a user clicks on the canvas."
   ]
  },
  {
   "cell_type": "markdown",
   "id": "d4746760",
   "metadata": {},
   "source": [
    "![New Component Diagram for annotators](https://www.plantuml.com/plantuml/png/VPA_ReCm48TtFuNbgLt82o0KIXUaP2b3vsjmAPB_87EqYYhUlHUZOEEsP0du--xym-VZYE1mqegrWF06e-JYR5kf3Wq2IlxG6wwbjkxwA3YCl3Pd_yQ_6PkPanS4qoagAeVXjMyxYLvRtyZZz0iYaTeCqntmBJt9TooTir-t9g8en5_IIzzzH5QUBzQSx2GgC9ymHgdYXR3_xn8VCAf80YT5dfPxy6aFLdlmUONp_t6Zf4b8kA1rD9lRdxVeAUauqnZNeUQPoehDCIKi33QQVMKDEgkKT2myaZ-HVo-Fz8R2G2TFSDqM-FuRkDwLp14AQhYhfJ4M0NjhwDCvcmCH3UX1oV5GQ-gtdD6ov1T89plUZGAtMH5tPB5FU4hp7QLf9wr-0000)"
   ]
  },
  {
   "cell_type": "markdown",
   "id": "b918f15b",
   "metadata": {},
   "source": [
    "## Model/State (in memory)\n",
    "\n",
    "To develop a model/state ipyannotator uses [Pydantic models](https://pydantic-docs.helpmanual.io/usage/models/) to assert the data type of the output model. Every change made in a state is triggered using [PyPubSub](https://pypubsub.readthedocs.io/en/v4.0.3/) and this events can be listen to other layers to assert the sync between components.\n",
    "\n",
    "For the `CircleAnnotator` we'll split the data into two states:\n",
    "\n",
    "- **AppWidgetState** it's a common state for all annotators. The `AppWidgetState` stores the canvas size, navi index and max number of images. You can use him to communicate with the Ipyannotator navigation component (Navi) or on your own custom navigation component.\n",
    "- **CircleAnnotatorState** it's the state responsable to store the `CircleAnnotator` data, it will store the circle radius, view layers, current image and circle drawn.\n",
    "\n",
    "**Observation:** The model/state doesn't have to be restricted to a single class (as shown in the image above), its data should make sense accordlying to the structure of the annotator. "
   ]
  },
  {
   "cell_type": "code",
   "execution_count": null,
   "id": "c1df78df",
   "metadata": {},
   "outputs": [],
   "source": [
    "from pubsub import pub\n",
    "from typing import Tuple, List, Dict, Optional\n",
    "from ipyannotator.base import BaseState, AppWidgetState\n",
    "from abc import ABC, abstractmethod\n",
    "from IPython.core.display import display"
   ]
  },
  {
   "cell_type": "code",
   "execution_count": null,
   "id": "a35d2793",
   "metadata": {},
   "outputs": [],
   "source": [
    "class CircleAnnotatorState(BaseState):\n",
    "    radius: float = 30\n",
    "    current_frame: Optional[str]\n",
    "    circles: Dict = {}\n",
    "    layers: Dict[str, int] = {\n",
    "        'bg': 0,\n",
    "        'image': 1,\n",
    "        'circle': 2,\n",
    "    }"
   ]
  },
  {
   "cell_type": "markdown",
   "id": "457c6ec7",
   "metadata": {},
   "source": [
    "## View\n",
    "\n",
    "The view layer should store all ipywidgets that will be used on the annotator. The next commands will start the GUI development of the CircleAnnotator."
   ]
  },
  {
   "cell_type": "code",
   "execution_count": null,
   "id": "7b8c3789",
   "metadata": {},
   "outputs": [],
   "source": [
    "from ipywidgets import AppLayout, VBox, HBox, Layout, Output, Image\n",
    "from ipycanvas import MultiCanvas\n",
    "from pathlib import Path\n",
    "from ipyannotator.navi_widget import Navi\n",
    "from ipyannotator.bbox_canvas import draw_img, draw_bg\n",
    "from ipyannotator.debug_utils import IpyLogger\n",
    "from ipyannotator.storage import MapeableStorage, get_image_list_from_folder"
   ]
  },
  {
   "cell_type": "markdown",
   "id": "78a251f9",
   "metadata": {},
   "source": [
    "The `CircleCanvas` class will be a component of our GUI, allowing to draw circles, backgrounds, images and also clear them."
   ]
  },
  {
   "cell_type": "code",
   "execution_count": null,
   "id": "35487445",
   "metadata": {},
   "outputs": [],
   "source": [
    "class CircleCanvas(HBox):\n",
    "    debug_output = Output(layout={'border': '1px solid black'})\n",
    "\n",
    "    def __init__(self, width: float, height: float, layers: dict):\n",
    "        super().__init__()\n",
    "\n",
    "        self._multi_canvas = MultiCanvas(\n",
    "            len(layers),\n",
    "            width=width,\n",
    "            height=height,\n",
    "        )\n",
    "\n",
    "        children = [VBox([self._multi_canvas])]\n",
    "        self.children = children\n",
    "\n",
    "    def clear(self, layer: int):\n",
    "        self._multi_canvas[layer].clear()\n",
    "\n",
    "    def draw_circle(self, layer: int, x: float, y: float, radius: float):\n",
    "        self._multi_canvas[layer].stroke_circle(x, y, radius)\n",
    "\n",
    "    def _draw_bg(self, layer: int = 0):\n",
    "        draw_bg(self._multi_canvas[layer])\n",
    "\n",
    "    def draw_image(self, layer: int, image_path: str):\n",
    "        draw_img(self._multi_canvas[layer], Path(image_path), clear=True)"
   ]
  },
  {
   "cell_type": "code",
   "execution_count": null,
   "id": "7f8c3c27",
   "metadata": {},
   "outputs": [],
   "source": [
    "circle_canvas = CircleCanvas(width=200, height=200, layers={'image': 1, 'bg': 0, 'circle': 2})\n",
    "circle_canvas.draw_image(0, '../data/projects/bbox/pics/blueSquare800x600.png')"
   ]
  },
  {
   "cell_type": "code",
   "execution_count": null,
   "id": "9cc34fef",
   "metadata": {},
   "outputs": [],
   "source": [
    "circle_canvas.debug_output"
   ]
  },
  {
   "cell_type": "code",
   "execution_count": null,
   "id": "fab4eeea",
   "metadata": {},
   "outputs": [],
   "source": [
    "circle_canvas"
   ]
  },
  {
   "cell_type": "code",
   "execution_count": null,
   "id": "5bfc3deb",
   "metadata": {},
   "outputs": [],
   "source": [
    "circle_canvas.draw_circle(1, 63, 62, 15)"
   ]
  },
  {
   "cell_type": "markdown",
   "id": "6a52f48a",
   "metadata": {},
   "source": [
    "The ` CircleAnnotatorGUI ` is our view. This layer communicates with the states, for example, if the state index changes our view will clear the draw layer, change the image and redraw the circles that were load to the state."
   ]
  },
  {
   "cell_type": "code",
   "execution_count": null,
   "id": "f846f52d",
   "metadata": {},
   "outputs": [],
   "source": [
    "class CircleAnnotatorGUI(AppLayout):\n",
    "    debug_output = Output(layout={'border': '1px solid black'})\n",
    "\n",
    "    def __init__(self, app_widget: AppWidgetState, circle_state: CircleAnnotatorState):\n",
    "        self._app_widget = app_widget\n",
    "        self._circle_state = circle_state\n",
    "\n",
    "        self._navi = Navi()\n",
    "\n",
    "        self._controls_box = HBox(\n",
    "            [self._navi],\n",
    "            layout=Layout(\n",
    "                display='flex',\n",
    "                flex_flow='row wrap',\n",
    "                align_items='center'\n",
    "            )\n",
    "        )\n",
    "\n",
    "        self._image_box = CircleCanvas(\n",
    "            width=self._app_widget.size[0],\n",
    "            height=self._app_widget.size[1],\n",
    "            layers=self._circle_state.layers\n",
    "        )\n",
    "\n",
    "        self._listen_index_changes()\n",
    "        self._listen_click()\n",
    "        self._listen_max_im_number_changes()\n",
    "        self._navi.on_navi_clicked = self._update_index\n",
    "\n",
    "        super().__init__(\n",
    "            header=None,\n",
    "            left_sidebar=None,\n",
    "            center=self._image_box,\n",
    "            right_sidebar=None,\n",
    "            footer=self._controls_box,\n",
    "            pane_widths=(2, 8, 0),\n",
    "            pane_heights=(1, 4, 1))\n",
    "\n",
    "    def _listen_click(self):\n",
    "        layer = self._circle_state.layers['circle']\n",
    "        self._image_box._multi_canvas[layer].on_mouse_down(self._draw_circle)\n",
    "\n",
    "    def _draw_circle(self, x: float, y: float, radius: float = None, append=True):\n",
    "        layer = self._circle_state.layers['circle']\n",
    "\n",
    "        draw = {\n",
    "            'x': x,\n",
    "            'y': y,\n",
    "            'radius': radius or self._circle_state.radius,\n",
    "        }\n",
    "\n",
    "        if append:\n",
    "            self._circle_state.circles[self._circle_state.current_frame].append(draw)\n",
    "\n",
    "        self._image_box.draw_circle(layer, draw['x'], draw['y'], draw['radius'])\n",
    "\n",
    "    def _draw_circle_from_state(self, frame: str):\n",
    "        circles = self._circle_state.circles[frame]\n",
    "\n",
    "        for circle in circles:\n",
    "            circle['append'] = False\n",
    "            self._draw_circle(**circle)\n",
    "\n",
    "    def _draw_image(self, image_path: str):\n",
    "        image_layer = self._circle_state.layers['image']\n",
    "        self._image_box.draw_image(image_layer, image_path)\n",
    "\n",
    "    def _listen_max_im_number_changes(self):\n",
    "        self._update_max_navi_slider(self._app_widget.max_im_number)\n",
    "        self._app_widget.subscribe(self._update_max_navi_slider, 'max_im_number')\n",
    "\n",
    "    def _update_max_navi_slider(self, max_im_number: int):\n",
    "        self._navi.max_im_num = max_im_number\n",
    "\n",
    "    def _listen_index_changes(self):\n",
    "        if self._circle_state.current_frame:\n",
    "            self._change_image(self._circle_state.current_frame)\n",
    "        self._circle_state.subscribe(self._change_image, 'current_frame')\n",
    "\n",
    "    def _change_image(self, current_frame: str):\n",
    "        self._image_box.clear(self._circle_state.layers['circle'])\n",
    "        self._draw_image(current_frame)\n",
    "        self._draw_circle_from_state(current_frame)\n",
    "\n",
    "    def _update_index(self, index: int):\n",
    "        self._app_widget.index = index"
   ]
  },
  {
   "cell_type": "markdown",
   "id": "2de627b1",
   "metadata": {},
   "source": [
    "## Storage\n",
    "\n",
    "Ipyannotator uses json as a data structure to store the annotation data. The package also allows the users to change the type of storage accordlying to the users needs, for example, you can store your data in files or databases like sqlite. In this example it's developed a `Storage` module that will keep our data in memory (using the `InMemoryStorage` class)."
   ]
  },
  {
   "cell_type": "code",
   "execution_count": null,
   "id": "c0d520b1",
   "metadata": {},
   "outputs": [],
   "source": [
    "class Storage(ABC):\n",
    "    @abstractmethod\n",
    "    def bulk_annotation(self, index: int, annotation: list):\n",
    "        pass\n",
    "\n",
    "    @abstractmethod\n",
    "    def find(self, index: int):\n",
    "        pass"
   ]
  },
  {
   "cell_type": "code",
   "execution_count": null,
   "id": "aa9df6b1",
   "metadata": {},
   "outputs": [],
   "source": [
    "class InMemoryStorage(Storage, MapeableStorage):\n",
    "    def __init__(\n",
    "        self,\n",
    "        image_dir: Path,\n",
    "    ):\n",
    "        super().__init__()\n",
    "        self.images = get_image_list_from_folder(image_dir)\n",
    "        self.update({str(image): [] for image in self.images})\n",
    "\n",
    "    def get_image(self, index: int) -> str:\n",
    "        return str(self.images[index])\n",
    "\n",
    "    def bulk_annotation(self, index: int, annotations: list):\n",
    "        image_path = self.get_image(index)\n",
    "        self.mapping[image_path] = annotations\n",
    "\n",
    "    def find(self, index: int):\n",
    "        image_path = self.get_image(index)\n",
    "        return self.__getitem__(image_path)"
   ]
  },
  {
   "cell_type": "markdown",
   "id": "1a279295",
   "metadata": {},
   "source": [
    "## Controller\n",
    "\n",
    "The controller serves as a mediator between the states, the gui and the storage. This layer listens for states changes and stores the data on the storage, it also can load the storage data into the states.\n",
    "\n",
    "To demonstrate how the communication works, the `IpyLogger` class can be used as a decorator to output all the pubsub communication into the logger. The `pub.ALL_TOPICS` parameter will get all the messages."
   ]
  },
  {
   "cell_type": "code",
   "execution_count": null,
   "id": "a8e7de17",
   "metadata": {},
   "outputs": [],
   "source": [
    "logger = IpyLogger('CircleLogger')"
   ]
  },
  {
   "cell_type": "code",
   "execution_count": null,
   "id": "3483f19b",
   "metadata": {},
   "outputs": [],
   "source": [
    "logger.show_logs()"
   ]
  },
  {
   "cell_type": "code",
   "execution_count": null,
   "id": "acebb466",
   "metadata": {},
   "outputs": [],
   "source": [
    "@logger.subscribe('AppWidgetState')\n",
    "class CircleAnnotatorController:\n",
    "    def __init__(\n",
    "        self,\n",
    "        app_widget: AppWidgetState,\n",
    "        circle_state: CircleAnnotatorState,\n",
    "        storage: Storage\n",
    "    ):\n",
    "        self._last_index = 0\n",
    "        self._app_widget = app_widget\n",
    "        self._circle_state = circle_state\n",
    "        self._storage = storage\n",
    "        self._storage_to_state()\n",
    "\n",
    "        app_widget.subscribe(self._update_current_frame, 'index')\n",
    "\n",
    "    def _storage_to_state(self):\n",
    "        logger.info(\"-> _storage_to_state\")\n",
    "        self._circle_state.circles = self._storage.mapping\n",
    "        self._update_current_frame()\n",
    "        self._update_max_im_number()\n",
    "\n",
    "    def _update_max_im_number(self):\n",
    "        logger.info(\"-> _update_max_im_number\")\n",
    "        self._app_widget.max_im_number = len(self._storage)\n",
    "\n",
    "    def _update_current_frame(self, index: int = 0):\n",
    "        self._save_annotation(self._last_index)\n",
    "        # error: \"Storage\" has no attribute \"get_image\"\n",
    "        image_path = self._storage.get_image(index)  # type: ignore\n",
    "        self._circle_state.current_frame = image_path\n",
    "        self._last_index = index\n",
    "\n",
    "    def _save_annotation(self, index: int):\n",
    "        logger.info(\"-> _save_annotation\")\n",
    "        # error: \"Storage\" has no attribute \"get_image\"\n",
    "        image_path = self._storage.get_image(index)  # type: ignore\n",
    "        annotations = self._circle_state.circles[image_path]\n",
    "        self._storage.bulk_annotation(index, annotations)"
   ]
  },
  {
   "cell_type": "code",
   "execution_count": null,
   "id": "9a7b464b",
   "metadata": {},
   "outputs": [],
   "source": [
    "storage = InMemoryStorage(Path('../data/projects/bbox/pics'))"
   ]
  },
  {
   "cell_type": "code",
   "execution_count": null,
   "id": "3247d0ac",
   "metadata": {},
   "outputs": [],
   "source": [
    "app_widget = AppWidgetState()"
   ]
  },
  {
   "cell_type": "code",
   "execution_count": null,
   "id": "813aec44",
   "metadata": {},
   "outputs": [],
   "source": [
    "circle_state = CircleAnnotatorState()"
   ]
  },
  {
   "cell_type": "code",
   "execution_count": null,
   "id": "0c0aabd6",
   "metadata": {},
   "outputs": [],
   "source": [
    "controller = CircleAnnotatorController(app_widget, circle_state, storage)"
   ]
  },
  {
   "cell_type": "code",
   "execution_count": null,
   "id": "b61fe200",
   "metadata": {},
   "outputs": [],
   "source": [
    "CircleAnnotatorGUI(app_widget, circle_state)"
   ]
  },
  {
   "cell_type": "code",
   "execution_count": null,
   "id": "4209dbdf",
   "metadata": {},
   "outputs": [],
   "source": [
    "logger.show_logs()"
   ]
  },
  {
   "cell_type": "markdown",
   "id": "a98215b3",
   "metadata": {},
   "source": [
    "## Annotator\n",
    "\n",
    "Ipyannotator's design can be described by three properties: input, output, actions. The goal is to develop flexible modules with a common interface.\n",
    "\n",
    "With all `CircleAnnotator` layers developed we can now create it's single instance. For the current annotator the properties used are:\n",
    "\n",
    "- input: Image\n",
    "- output: Circle\n",
    "- actions: explore, improve, create"
   ]
  },
  {
   "cell_type": "code",
   "execution_count": null,
   "id": "d4b6dc5d",
   "metadata": {},
   "outputs": [],
   "source": [
    "from ipyannotator.mltypes import InputImage, Input, Output"
   ]
  },
  {
   "cell_type": "code",
   "execution_count": null,
   "id": "15bb78c4",
   "metadata": {},
   "outputs": [],
   "source": [
    "class CircleOutput(Output):\n",
    "    pass"
   ]
  },
  {
   "cell_type": "code",
   "execution_count": null,
   "id": "aace27fc",
   "metadata": {},
   "outputs": [],
   "source": [
    "class CircleAnnotator:\n",
    "    def __init__(\n",
    "        self,\n",
    "        project_path: Path,\n",
    "        input_item: InputImage,\n",
    "        output_item: Output,\n",
    "        *args, **kwargs\n",
    "    ):\n",
    "        self._app_widget = AppWidgetState(uuid=str(id(self)), **{\n",
    "            'size': (input_item.width, input_item.height)\n",
    "        })\n",
    "        self._circle_state = CircleAnnotatorState(uuid=str(id(self)))\n",
    "\n",
    "        self._storage = InMemoryStorage(project_path / input_item.dir)\n",
    "\n",
    "        self._controller = CircleAnnotatorController(\n",
    "            self._app_widget,\n",
    "            self._circle_state,\n",
    "            self._storage\n",
    "        )\n",
    "\n",
    "        self._view = CircleAnnotatorGUI(\n",
    "            self._app_widget,\n",
    "            self._circle_state\n",
    "        )\n",
    "\n",
    "    def __repr__(self):\n",
    "        display(self._view)\n",
    "        return \"\""
   ]
  },
  {
   "cell_type": "code",
   "execution_count": null,
   "id": "96901820",
   "metadata": {},
   "outputs": [],
   "source": [
    "in_p = InputImage(image_dir='pics', image_width=600, image_height=400)\n",
    "out_p = CircleOutput()\n",
    "\n",
    "circle_annotator = CircleAnnotator(\n",
    "    project_path=Path('../data/projects/bbox/'),\n",
    "    input_item=in_p,\n",
    "    output_item=out_p\n",
    ")\n",
    "\n",
    "circle_annotator"
   ]
  },
  {
   "cell_type": "markdown",
   "id": "94326f72",
   "metadata": {},
   "source": [
    "## Diagram"
   ]
  },
  {
   "cell_type": "markdown",
   "id": "736be9ab",
   "metadata": {},
   "source": [
    "The following sequence diagram shows how the CircleAnnotator comunicates with its components when a user clicks on the next button navigation.\n",
    "\n",
    "![sequence diagram](https://plantuml.palaimon.io/png/XLFDRjim3BxhARZcqXtw0aOH84w0Oi0s13227Oh2e6NM5QB8dYIdoPv-bAMaTcfi9rlKzqFoizrUcGuj7i3HxvwCf1_a73QqqgenO5NpviMNpc9pGF3K_W5lUn9Y9NrhOUV82b6r9w2JBpnwWaMdp5wmf5TITMWyhBhkbweRIW1qW5qNts42N2ihDQsCQVcojGD4aAc13QBBtTFksnqileUkpgHr-yxtNldpBPTnWn6Vdtfr0Vt4eqet9ZmNEWXLkYUOwgpH7D4bg1oNUfLOZIKo7zt9rdZRwi5YdTw3pTfRFVAvucxwJHHDTkJuGOrcWWFYLhUxlDZb0RSjGDJeiK97KB0CvnRgcro840qyBEEW6HWEgF963CTG3kePX-vBPMewYTWftrp2oQ3lM9pYFJnArBf2kL_2SsbuoZ8KiDBq8b1wTHooJLnnJPW5jqK6ZpodUZqpLzMd5r7J3ELIsHQ21tjOBaTxoA1CtSZUMiwgVELlbiP2J1EZnR7n9i-WwlM-nBXcrHfthz6baR_Em9kmZmElyVxYaw1N6zxj9W_mSNEMV6yD34ptFA5EXcNor7Fkau-fJEUyAip-8tF5pvkVA4xQcXMToIFzJXo6V4FJK5pLRGW9DThHvTV9W4ze8Stq3rnjyJsf_nSMg-ul)"
   ]
  },
  {
   "cell_type": "code",
   "execution_count": null,
   "id": "ced125fb",
   "metadata": {},
   "outputs": [],
   "source": []
  }
 ],
 "metadata": {
  "kernelspec": {
   "display_name": "Python 3 (ipykernel)",
   "language": "python",
   "name": "python3"
  }
 },
 "nbformat": 4,
 "nbformat_minor": 5
}
