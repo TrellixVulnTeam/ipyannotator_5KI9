{
 "cells": [
  {
   "cell_type": "code",
   "execution_count": null,
   "metadata": {},
   "outputs": [],
   "source": [
    "# hide\n",
    "%load_ext autoreload\n",
    "%autoreload 2"
   ]
  },
  {
   "cell_type": "code",
   "execution_count": null,
   "metadata": {},
   "outputs": [],
   "source": [
    "# default_exp bbox_annotator"
   ]
  },
  {
   "cell_type": "code",
   "execution_count": null,
   "metadata": {},
   "outputs": [],
   "source": [
    "# hide\n",
    "from nbdev import *"
   ]
  },
  {
   "cell_type": "code",
   "execution_count": null,
   "metadata": {},
   "outputs": [],
   "source": [
    "#exporti\n",
    "\n",
    "import warnings\n",
    "import functools\n",
    "from pathlib import Path\n",
    "from copy import deepcopy\n",
    "from typing import Optional, Dict, List\n",
    "\n",
    "from IPython.core.display import display\n",
    "from ipywidgets import (AppLayout, Button, HBox, VBox, Layout)\n",
    "\n",
    "from ipyannotator.base import BaseState, AppWidgetState\n",
    "from ipyannotator.bbox_canvas import BBoxCanvas, BBoxCanvasState\n",
    "from ipyannotator.navi_widget import Navi\n",
    "from ipyannotator.storage import JsonCaptureStorage"
   ]
  },
  {
   "cell_type": "markdown",
   "metadata": {},
   "source": [
    "# Bounding Box Annotator\n",
    "\n",
    "Bounding Box Annotator allows users to freely draw on top of images."
   ]
  },
  {
   "cell_type": "markdown",
   "metadata": {},
   "source": [
    "## State"
   ]
  },
  {
   "cell_type": "code",
   "execution_count": null,
   "metadata": {},
   "outputs": [],
   "source": [
    "#export\n",
    "\n",
    "class BBoxState(BaseState):\n",
    "    coords: Optional[List[Dict[str, float]]]\n",
    "    image: Optional[str]"
   ]
  },
  {
   "cell_type": "markdown",
   "metadata": {},
   "source": [
    "## View"
   ]
  },
  {
   "cell_type": "code",
   "execution_count": null,
   "metadata": {},
   "outputs": [],
   "source": [
    "#exporti\n",
    "\n",
    "class BBoxList(VBox):\n",
    "    def __init__(\n",
    "        self, \n",
    "        bbox_state: BBoxCanvasState, \n",
    "        label_clicked: callable = None\n",
    "    ):\n",
    "        super().__init__( \n",
    "            layout=Layout(\n",
    "                min_width='400px'\n",
    "            )\n",
    "        )\n",
    "        \n",
    "        self._state = bbox_state\n",
    "        self._label_clicked = label_clicked\n",
    "        \n",
    "        if self._state.bbox_coords:\n",
    "            self._render_btn_list(self._state.bbox_coords)\n",
    "\n",
    "        bbox_state.subscribe(self._render_btn_list, 'bbox_coords')\n",
    "\n",
    "    def _render_btn_list(self, bbox_coords: list):\n",
    "        elements = []\n",
    "            \n",
    "        for index, coord in enumerate(bbox_coords):\n",
    "            btn_annotation = Button(description=f'Annotation {index+1}')\n",
    "            btn_del_annotation = Button(\n",
    "                layout=Layout(width='auto'),\n",
    "                icon=\"fa-trash\", \n",
    "                button_style=\"danger\",\n",
    "                value=index\n",
    "            )\n",
    "            \n",
    "            if self._label_clicked:\n",
    "                btn_annotation.on_click(\n",
    "                     functools.partial(self._label_clicked, index=index)\n",
    "                )\n",
    "            \n",
    "            btn_del_annotation.on_click(\n",
    "                functools.partial(self._del_element, index=index)\n",
    "            )\n",
    "            \n",
    "            elements.append(\n",
    "                HBox([\n",
    "                    btn_annotation,\n",
    "                    btn_del_annotation\n",
    "                ])\n",
    "            )\n",
    "        \n",
    "        self.children = elements\n",
    "\n",
    "    def _del_element(self, event: dict, index: int = None):\n",
    "        if index is not None:\n",
    "            elements = list(self.children)\n",
    "            coords = self._state.bbox_coords.copy()\n",
    "            del coords[index]\n",
    "            del elements[index]\n",
    "            self.children = elements\n",
    "            self._state.bbox_coords = coords"
   ]
  },
  {
   "cell_type": "code",
   "execution_count": null,
   "metadata": {},
   "outputs": [],
   "source": [
    "bbox_state = BBoxCanvasState()\n",
    "\n",
    "bbox_list = BBoxList(bbox_state)\n",
    "\n",
    "bbox_list"
   ]
  },
  {
   "cell_type": "code",
   "execution_count": null,
   "metadata": {},
   "outputs": [],
   "source": [
    "# on bbox_state annotation change it reflects on the element list\n",
    "\n",
    "assert len(bbox_list.children) == 0\n",
    "\n",
    "bbox_state.bbox_coords = [{'x': 10, 'y': 10, 'width': 20, 'height': 30}]\n",
    "\n",
    "assert len(bbox_list.children) == 1\n",
    "\n",
    "# on element click it removes from state\n",
    "\n",
    "bbox_list.children[0].children[1].click()\n",
    "\n",
    "assert len(bbox_list.children) == 0"
   ]
  },
  {
   "cell_type": "code",
   "execution_count": null,
   "metadata": {},
   "outputs": [],
   "source": [
    "#exporti\n",
    "\n",
    "class BBoxAnnotatorGUI(AppLayout):\n",
    "    def __init__(\n",
    "        self, \n",
    "        app_state: AppWidgetState, \n",
    "        bbox_state: BBoxState, \n",
    "        save_callable: callable = None\n",
    "    ):\n",
    "        self._app_state = app_state\n",
    "        self._bbox_state = bbox_state\n",
    "        self._save_callable = save_callable\n",
    "        \n",
    "        self._navi = Navi()\n",
    "        \n",
    "        self._save_btn = Button(description=\"Save\",\n",
    "                                layout=Layout(width='auto'))\n",
    "        \n",
    "        self._undo_btn = Button(description=\"Undo\",\n",
    "                                icon=\"fa-undo\",\n",
    "                                layout=Layout(width='auto'))\n",
    "        \n",
    "        self._redo_btn = Button(description=\"Redo\",\n",
    "                                icon=\"fa-rotate-right\",\n",
    "                                layout=Layout(width='auto'))\n",
    "\n",
    "        self._controls_box = HBox(\n",
    "            [self._navi, self._save_btn, self._undo_btn, self._redo_btn],\n",
    "            layout=Layout(\n",
    "                display='flex', \n",
    "                flex_flow='row wrap', \n",
    "                align_items='center'\n",
    "            )\n",
    "        )\n",
    "\n",
    "        self._image_box = BBoxCanvas(*self._app_state.size)\n",
    "\n",
    "        self._element_list = BBoxList(\n",
    "            self._image_box.state, \n",
    "            label_clicked=self._highlight_bbox\n",
    "        )\n",
    "        \n",
    "        # set the values already instantiated on state\n",
    "        if self._app_state.max_im_number:\n",
    "            self._set_max_im_number(self._app_state.max_im_number)\n",
    "        \n",
    "        if self._bbox_state.image:\n",
    "            self._set_image_path(self._bbox_state.image)\n",
    "        \n",
    "        if self._bbox_state.coords:\n",
    "            self._set_coords(self._bbox_state.coords)\n",
    "        \n",
    "        # set the GUI interactions as callables\n",
    "        self._navi.navi_callable = self._idx_changed\n",
    "        self._save_btn.on_click(self._save_btn_clicked)\n",
    "        self._undo_btn.on_click(self._undo_clicked)\n",
    "        self._redo_btn.on_click(self._redo_clicked)\n",
    "        \n",
    "        bbox_state.subscribe(self._set_image_path, 'image')\n",
    "        bbox_state.subscribe(self._set_coords, 'coords')\n",
    "        app_state.subscribe(self._set_max_im_number, 'max_im_number')\n",
    "        \n",
    "        super().__init__(header=None,\n",
    "                 left_sidebar=None,\n",
    "                 center=self._image_box,\n",
    "                 right_sidebar=self._element_list,\n",
    "                 footer=self._controls_box,\n",
    "                 pane_widths=(2, 8, 0),\n",
    "                 pane_heights=(1, 4, 1))\n",
    "        \n",
    "    def _highlight_bbox(self, event: dict, index: int):\n",
    "        self._image_box.highlight = index\n",
    "\n",
    "    def _redo_clicked(self, event: dict):\n",
    "        self._image_box.redo_bbox()\n",
    "        \n",
    "    def _undo_clicked(self, event: dict):\n",
    "        self._image_box.undo_bbox()\n",
    "\n",
    "    def _set_image_path(self, image: str):\n",
    "        self._image_box._state.image_path = image\n",
    "\n",
    "    def _set_coords(self, coords: list):\n",
    "        if coords:\n",
    "            tmp_coords = deepcopy(self._image_box._state.bbox_coords)\n",
    "            tmp_coords.append(coords)\n",
    "            self._image_box._state.bbox_coords = coords\n",
    "\n",
    "    def _set_max_im_number(self, max_im_number: int):\n",
    "        # sync the navi GUI with AppWidgetState\n",
    "        self._navi.max_im_num = max_im_number\n",
    "\n",
    "    def _idx_changed(self, index: int):\n",
    "        # store the last bbox drawn before index update\n",
    "        self._bbox_state.coords = self._image_box._state.bbox_coords\n",
    "        self._app_state.index = index\n",
    "\n",
    "    def _save_btn_clicked(self, *args):\n",
    "        if self._save_callable:\n",
    "            self._save_callable(self._image_box._state.bbox_coords)\n",
    "        else:\n",
    "            warnings.warn(\"Save button click didn't triggered any event.\")\n",
    "\n",
    "    def on_client_ready(self, callback):\n",
    "        self._image_box.observe_client_ready(callback)"
   ]
  },
  {
   "cell_type": "code",
   "execution_count": null,
   "metadata": {},
   "outputs": [],
   "source": [
    "#hide\n",
    "\n",
    "app_state = AppWidgetState()\n",
    "bbox_state = BBoxState()\n",
    "\n",
    "BBoxAnnotatorGUI(\n",
    "    app_state=app_state, \n",
    "    bbox_state=bbox_state,\n",
    ")"
   ]
  },
  {
   "cell_type": "markdown",
   "metadata": {},
   "source": [
    "## Controller"
   ]
  },
  {
   "cell_type": "code",
   "execution_count": null,
   "metadata": {},
   "outputs": [],
   "source": [
    "#exporti\n",
    "\n",
    "class BBoxAnnotatorController:    \n",
    "    def __init__(self, app_state: AppWidgetState, bbox_state: BBoxState, storage: JsonCaptureStorage):\n",
    "        self._app_state = app_state\n",
    "        self._bbox_state = bbox_state\n",
    "        self._storage = storage\n",
    "        self._last_index = 0\n",
    "\n",
    "        app_state.subscribe(self._idx_changed, 'index')\n",
    "\n",
    "        self._update_im(self._last_index)\n",
    "        self._app_state.max_im_number = len(self._storage)\n",
    "        self._update_coords(self._last_index)\n",
    "    \n",
    "    def save_current_annotations(self, coords: dict):\n",
    "        self._bbox_state.set_quietly('coords', coords)\n",
    "        self._save_annotations(self._app_state.index)\n",
    "    \n",
    "    def _update_im(self, index: int):\n",
    "        self._bbox_state.image = self._storage.images[index]\n",
    "            \n",
    "    def _update_coords(self, index: int): # from annotations\n",
    "        image_path = str(self._storage.images[index])\n",
    "        self._bbox_state.coords = self._storage.get(image_path) or {}\n",
    "        \n",
    "    def _save_annotations(self, index: int, *args, **kwargs): # to disk\n",
    "        image_path = str(self._storage.images[index])\n",
    "        self._storage[image_path] = self._bbox_state.coords\n",
    "        self._storage.save()\n",
    "\n",
    "    def _idx_changed(self, index: int):\n",
    "        \"\"\" \n",
    "        On index change save an old state and update \n",
    "        current image path and bbox coordinates for \n",
    "        visualisation\n",
    "        \"\"\"\n",
    "        self._save_annotations(self._last_index)\n",
    "        self._update_im(index)\n",
    "        self._update_coords(index)\n",
    "        self._last_index = index"
   ]
  },
  {
   "cell_type": "markdown",
   "metadata": {},
   "source": [
    "We have annotation saved in dictionary lile: `{'path/to/imagename.jpg': {'x':0, 'y': 0, 'width': 100, 'heigth': 100}}`\n",
    "\n",
    "Navi widget has `index` and prev/next buttons to iterate over `max_im_number` of images (todo: change name as we can iterate of any object).\n",
    "\n",
    "BBoxAnnotator has coupled `index` (with Navi one), and onchange event to update the current image path and label.\n",
    "\n",
    "On image_path change event BBoxCanvas rerenders new image and label"
   ]
  },
  {
   "cell_type": "code",
   "execution_count": null,
   "metadata": {},
   "outputs": [],
   "source": [
    "# hide\n",
    "# new index ->  save *old* annotations -> update image -> update coordinates from annotation\n",
    "#                     | \n",
    "#                     |-> _update_annotations -> get current bbox values -> save to self.annotations"
   ]
  },
  {
   "cell_type": "code",
   "execution_count": null,
   "metadata": {},
   "outputs": [],
   "source": [
    "# hide\n",
    "\n",
    "# storage = JsonAnnotationStorage('../data/projects/bbox')\n",
    "\n",
    "# controller = BBoxAnnotatorController(\n",
    "#     app_state=app_state,\n",
    "#     bbox_state=bbox_state,\n",
    "#     storage=storage\n",
    "# )\n",
    "\n",
    "# assert controller._storage.get_num_images() == 4"
   ]
  },
  {
   "cell_type": "code",
   "execution_count": null,
   "metadata": {},
   "outputs": [],
   "source": [
    "#exporti\n",
    "\n",
    "class BBoxAnnotator:\n",
    "    \"\"\"\n",
    "    Represents bounding box annotator. \n",
    "    \n",
    "    Gives an ability to itarate through image dataset, \n",
    "    draw 2D bounding box annotations for object detection and localization,\n",
    "    export final annotations in json format\n",
    "    \n",
    "    \"\"\"\n",
    "    \n",
    "    def __init__(\n",
    "        self, \n",
    "        project_path: Path,\n",
    "        input_item,\n",
    "        output_item,\n",
    "        annotation_file_path: Path,\n",
    "        *args, **kwargs\n",
    "    ):\n",
    "        self.app_state = AppWidgetState(\n",
    "            uuid=id(self),\n",
    "            **{\n",
    "                'size': (input_item.width, input_item.height),\n",
    "            }\n",
    "        )\n",
    "        \n",
    "        self.bbox_state = BBoxState(\n",
    "            uuid=id(self)\n",
    "        )\n",
    "        \n",
    "        self.storage = JsonCaptureStorage(\n",
    "            im_dir=project_path / input_item.dir,\n",
    "            annotation_file_path=annotation_file_path\n",
    "        )\n",
    "        \n",
    "        self.controller = BBoxAnnotatorController(\n",
    "            app_state=self.app_state,\n",
    "            bbox_state=self.bbox_state,\n",
    "            storage=self.storage\n",
    "        )\n",
    "        \n",
    "        self.view = BBoxAnnotatorGUI(\n",
    "            app_state=self.app_state,\n",
    "            bbox_state=self.bbox_state,\n",
    "            save_callable=self.controller.save_current_annotations\n",
    "        )\n",
    "\n",
    "    def __repr__(self):\n",
    "        display(self.view)\n",
    "        return \"\"\n",
    "    \n",
    "    def to_dict(self, only_annotated=True):\n",
    "        return self.storage.to_dict(only_annotated)       "
   ]
  },
  {
   "cell_type": "code",
   "execution_count": null,
   "metadata": {},
   "outputs": [],
   "source": [
    "# hide\n",
    "from ipyannotator.base import InputImage, OutputImageBbox\n",
    "\n",
    "in_p = InputImage(image_dir='pics', image_width=640, image_height=400)\n",
    "out_p = OutputImageBbox()"
   ]
  },
  {
   "cell_type": "code",
   "execution_count": null,
   "metadata": {},
   "outputs": [],
   "source": [
    "! rm -rf ../data/projects/bbox/results"
   ]
  },
  {
   "cell_type": "code",
   "execution_count": null,
   "metadata": {},
   "outputs": [],
   "source": [
    "# hide\n",
    "from ipyannotator.storage import construct_annotation_path\n",
    "\n",
    "project_path = Path('../data/projects/bbox')\n",
    "\n",
    "anno_file_path = construct_annotation_path(project_path)"
   ]
  },
  {
   "cell_type": "code",
   "execution_count": null,
   "metadata": {},
   "outputs": [],
   "source": [
    "# hide\n",
    "bb = BBoxAnnotator(\n",
    "    project_path=Path(project_path), \n",
    "    input_item=in_p,\n",
    "    output_item=out_p,\n",
    "    annotation_file_path=anno_file_path\n",
    ")"
   ]
  },
  {
   "cell_type": "code",
   "execution_count": null,
   "metadata": {},
   "outputs": [],
   "source": [
    "#hide\n",
    "\n",
    "bb"
   ]
  },
  {
   "cell_type": "code",
   "execution_count": null,
   "metadata": {},
   "outputs": [],
   "source": [
    "bb.view._image_box._state.bbox_coords = [{'x': 10, 'y': 10, 'width': 20, 'height': 30}]"
   ]
  },
  {
   "cell_type": "code",
   "execution_count": null,
   "metadata": {},
   "outputs": [],
   "source": [
    "# on element click it hightlight\n",
    "\n",
    "bb.view._element_list.children[0].children[0].click()\n",
    "\n",
    "assert bb.view._image_box._state.bbox_selected == 0\n",
    "\n",
    "# double click unhighlight\n",
    "\n",
    "bb.view._element_list.children[0].children[0].click()\n",
    "assert bb.view._image_box._state.bbox_selected is None"
   ]
  },
  {
   "cell_type": "code",
   "execution_count": null,
   "metadata": {},
   "outputs": [],
   "source": [
    "bb.storage.to_dict(False)"
   ]
  },
  {
   "cell_type": "code",
   "execution_count": null,
   "metadata": {},
   "outputs": [],
   "source": [
    "# hide\n",
    "bb.to_dict()"
   ]
  },
  {
   "cell_type": "code",
   "execution_count": null,
   "metadata": {},
   "outputs": [],
   "source": [
    "#hide\n",
    "from nbdev.export import notebook2script\n",
    "notebook2script()"
   ]
  },
  {
   "cell_type": "code",
   "execution_count": null,
   "metadata": {},
   "outputs": [],
   "source": []
  }
 ],
 "metadata": {
  "kernelspec": {
   "display_name": "Python 3 (ipykernel)",
   "language": "python",
   "name": "python3"
  }
 },
 "nbformat": 4,
 "nbformat_minor": 4
}
