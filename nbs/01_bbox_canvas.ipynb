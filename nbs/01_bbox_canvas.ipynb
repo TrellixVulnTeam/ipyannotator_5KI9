{
 "cells": [
  {
   "cell_type": "code",
   "execution_count": null,
   "metadata": {},
   "outputs": [],
   "source": [
    "# default_exp bbox_canvas"
   ]
  },
  {
   "cell_type": "code",
   "execution_count": null,
   "metadata": {},
   "outputs": [],
   "source": [
    "# hide\n",
    "%load_ext autoreload\n",
    "%autoreload 2"
   ]
  },
  {
   "cell_type": "code",
   "execution_count": null,
   "metadata": {},
   "outputs": [],
   "source": [
    "# hide\n",
    "from nbdev import *"
   ]
  },
  {
   "cell_type": "code",
   "execution_count": null,
   "metadata": {},
   "outputs": [],
   "source": [
    "# exporti\n",
    "from math import log\n",
    "from pubsub import pub\n",
    "from attr import asdict\n",
    "from pathlib import Path\n",
    "from copy import deepcopy\n",
    "from enum import IntEnum\n",
    "from typing import Dict, Optional, List\n",
    "\n",
    "from ipyannotator.base import BaseState\n",
    "from ipyannotator.mltypes import BboxCoordinate, BboxVideoCoordinate\n",
    "from ipycanvas import MultiCanvas, Canvas, hold_canvas\n",
    "from ipywidgets import Image, Label, Layout, HBox, VBox, Output"
   ]
  },
  {
   "cell_type": "markdown",
   "metadata": {},
   "source": [
    "# Draw Box in Canvas"
   ]
  },
  {
   "cell_type": "code",
   "execution_count": null,
   "metadata": {},
   "outputs": [],
   "source": [
    "# hide\n",
    "\n",
    "# Create a multi-layer canvas with 4 layers\n",
    "multi_canvas = MultiCanvas(4, width=200, height=200)\n",
    "multi_canvas[0]  # Access first layer (background)\n",
    "multi_canvas[3]  # Access last layer\n",
    "multi_canvas"
   ]
  },
  {
   "cell_type": "code",
   "execution_count": null,
   "metadata": {},
   "outputs": [],
   "source": [
    "# hide\n",
    "# dynamic update of canvas size\n",
    "multi_canvas.width = 30\n",
    "multi_canvas.height = 60"
   ]
  },
  {
   "cell_type": "markdown",
   "metadata": {},
   "source": [
    "`ipyannotator` use `ipycanvas` to draw the Canvas. `ipycanvas` uses the following grid system:\n",
    "\n",
    "![grid illustration](https://ipycanvas.readthedocs.io/en/latest/_images/grid.png)"
   ]
  },
  {
   "cell_type": "code",
   "execution_count": null,
   "metadata": {},
   "outputs": [],
   "source": [
    "#exporti\n",
    "\n",
    "def draw_bg(canvas, color='rgb(236,240,241)'):\n",
    "    with hold_canvas(canvas):\n",
    "        canvas.fill_style = color\n",
    "        canvas.fill_rect(0, 0, canvas.size[0], canvas.size[1])"
   ]
  },
  {
   "cell_type": "code",
   "execution_count": null,
   "metadata": {},
   "outputs": [],
   "source": [
    "# hide\n",
    "\n",
    "canvas = Canvas(width=300, height=20)\n",
    "draw_bg(canvas)\n",
    "canvas"
   ]
  },
  {
   "cell_type": "code",
   "execution_count": null,
   "metadata": {},
   "outputs": [],
   "source": [
    "# hide\n",
    "canvas = Canvas(width=200, height=200)\n",
    "canvas.fill_rect(25, 25, 100, 100)\n",
    "canvas.clear_rect(45, 45, 60, 60)\n",
    "canvas.stroke_rect(50, 50, 50, 50)\n",
    "canvas"
   ]
  },
  {
   "cell_type": "code",
   "execution_count": null,
   "metadata": {},
   "outputs": [],
   "source": [
    "#exporti\n",
    "\n",
    "def draw_bounding_box(canvas, coord: BboxCoordinate, color='white', line_width=1,\n",
    "                      border_ratio=2, clear=False, stroke_color='black'):\n",
    "    with hold_canvas(canvas):\n",
    "        if clear:\n",
    "            canvas.clear()\n",
    "\n",
    "        line_width = line_width or log(canvas.height) / 5\n",
    "\n",
    "        gap = line_width * border_ratio\n",
    "\n",
    "        # paint and draw the middle stroked rectangle\n",
    "        canvas.line_width = gap\n",
    "        canvas.stroke_style = color\n",
    "        canvas.stroke_rect(coord.x + gap / 2, coord.y + gap / 2,\n",
    "                           coord.width - gap, coord.height - gap)\n",
    "\n",
    "        # paint and draw the external stroked rectangle\n",
    "        canvas.line_width = line_width\n",
    "        canvas.stroke_style = stroke_color\n",
    "        canvas.stroke_rect(coord.x, coord.y, coord.width, coord.height)\n",
    "\n",
    "        # paint and draw the internal stroked rectangle\n",
    "        canvas.line_width = line_width\n",
    "        canvas.stroke_style = stroke_color\n",
    "        canvas.stroke_rect(coord.x + gap, coord.y + gap,\n",
    "                           coord.width - 2 * gap, coord.height - 2 * gap)"
   ]
  },
  {
   "cell_type": "code",
   "execution_count": null,
   "metadata": {},
   "outputs": [],
   "source": [
    "# hide\n",
    "import numpy as np\n",
    "\n",
    "canvas = Canvas(width=100, height=100)\n",
    "draw_bg(canvas)\n",
    "draw_bounding_box(canvas, BboxCoordinate(*[0, 0, 80, 100]))\n",
    "draw_bounding_box(canvas, BboxCoordinate(*[5, 20, 40, 50]),\n",
    "                  color='red', border_ratio=4, line_width=1.5)\n",
    "\n",
    "canvas"
   ]
  },
  {
   "cell_type": "code",
   "execution_count": null,
   "metadata": {},
   "outputs": [],
   "source": [
    "# hide\n",
    "canvas = MultiCanvas(2, width=200, height=200)\n",
    "draw_bg(canvas[0])\n",
    "draw_bounding_box(canvas[1], BboxCoordinate(*[10, 40, 80, 100]))\n",
    "draw_bounding_box(canvas[1], BboxCoordinate(*[5, 20, 40, 50]), color='red', border_ratio=4)\n",
    "canvas"
   ]
  },
  {
   "cell_type": "code",
   "execution_count": null,
   "metadata": {},
   "outputs": [],
   "source": [
    "#exporti\n",
    "\n",
    "class BoundingBox:\n",
    "    def __init__(self):\n",
    "        self.color = 'white'\n",
    "        self.line_width = 1\n",
    "        self.border_ratio = 2\n",
    "        self.stroke_color = 'black'\n",
    "\n",
    "    def _empty_bbox(self) -> Dict[str, List[int]]:\n",
    "        return {'x': [], 'y': [], 'width': [], 'height': []}\n",
    "\n",
    "    def _stroke_rects(self, canvas: Canvas, bbox: Dict[str, List[int]],\n",
    "                      line_width: int, color: str):\n",
    "        canvas.line_width = line_width\n",
    "        canvas.stroke_style = color\n",
    "        canvas.stroke_rects(bbox['x'], bbox['y'], bbox['width'], bbox['height'])\n",
    "\n",
    "    def draw(self, canvas: Canvas, coords: List[BboxCoordinate], clear: bool = False):\n",
    "        with hold_canvas(canvas):\n",
    "            if clear:\n",
    "                canvas.clear()\n",
    "\n",
    "            mid_rect = self._empty_bbox()\n",
    "            inter_rect = self._empty_bbox()\n",
    "            ext_rect = self._empty_bbox()\n",
    "\n",
    "            line_width = self.line_width or log(canvas.height) / 5\n",
    "\n",
    "            gap = line_width * self.border_ratio\n",
    "\n",
    "            for coord in coords:\n",
    "                mid_rect['x'].append(coord.x + gap / 2)\n",
    "                mid_rect['y'].append(coord.y + gap / 2)\n",
    "                mid_rect['width'].append(coord.width - gap)\n",
    "                mid_rect['height'].append(coord.height - gap)\n",
    "\n",
    "                ext_rect['x'].append(coord.x)\n",
    "                ext_rect['y'].append(coord.y)\n",
    "                ext_rect['width'].append(coord.width)\n",
    "                ext_rect['height'].append(coord.height)\n",
    "\n",
    "                inter_rect['x'].append(coord.x + gap)\n",
    "                inter_rect['y'].append(coord.y + gap)\n",
    "                inter_rect['width'].append(coord.width - 2 * gap)\n",
    "                inter_rect['height'].append(coord.height - 2 * gap)\n",
    "\n",
    "            # paint and draw the middle stroked rectangle\n",
    "            self._stroke_rects(canvas, mid_rect, gap, self.color)\n",
    "\n",
    "            # paint and draw the external stroked rectangle\n",
    "            self._stroke_rects(canvas, ext_rect, line_width, self.stroke_color)\n",
    "\n",
    "            # paint and draw the internal stroked rectangle\n",
    "            self._stroke_rects(canvas, inter_rect, line_width, self.stroke_color)"
   ]
  },
  {
   "cell_type": "code",
   "execution_count": null,
   "metadata": {},
   "outputs": [],
   "source": [
    "# hide\n",
    "canvas = MultiCanvas(2, width=200, height=200)\n",
    "draw_bg(canvas[0])\n",
    "coords = [[160, 160, 40, 40], [20, 50, 70, 80], [10, 10, 10, 10]]\n",
    "coords = list(map(lambda x: BboxCoordinate(*x), coords))\n",
    "bbox = BoundingBox()\n",
    "bbox.draw(canvas[1], coords)\n",
    "canvas"
   ]
  },
  {
   "cell_type": "markdown",
   "metadata": {},
   "source": [
    "## Draw Image\n",
    "\n",
    "`ipycanvas` can be used to draw images on the Canvas itself. This way, we can use `ipycanvas` with `ipywidgets` as the following to draw images."
   ]
  },
  {
   "cell_type": "code",
   "execution_count": null,
   "metadata": {},
   "outputs": [],
   "source": [
    "sprite1 = Image.from_file(\"../data/projects/bbox/pics/test200x200.png\")\n",
    "sprite2 = Image.from_file(\"../data/projects/bbox/pics/red400x640.png\")\n",
    "\n",
    "canvas = Canvas(width=300, height=300)\n",
    "\n",
    "canvas.fill_style = '#a9cafc'\n",
    "canvas.fill_rect(0, 0, 300, 300)\n",
    "\n",
    "canvas.draw_image(sprite1, 50, 50)\n",
    "canvas.draw_image(sprite2, 100, 100, width=40, height=40)\n",
    "\n",
    "canvas"
   ]
  },
  {
   "attachments": {
    "canvas.png": {
     "image/png": "[encoded data removed]"
    }
   },
   "cell_type": "markdown",
   "metadata": {},
   "source": [
    "This code example will produce the following image:\n",
    "\n",
    "![./images/canvas.png](attachment:canvas.png)"
   ]
  },
  {
   "cell_type": "code",
   "execution_count": null,
   "metadata": {},
   "outputs": [],
   "source": [
    "# hide\n",
    "\n",
    "# You can draw from another Canvas widget. This is the fastest way of drawing an image\n",
    "# on the canvas.\n",
    "\n",
    "canvas2 = Canvas(width=600, height=300)\n",
    "# Here ``canvas`` is the canvas from the previous example\n",
    "canvas2.draw_image(canvas, 0, 0)\n",
    "canvas2.draw_image(canvas, 300, 0)\n",
    "canvas2"
   ]
  },
  {
   "cell_type": "code",
   "execution_count": null,
   "metadata": {},
   "outputs": [],
   "source": [
    "#exporti\n",
    "from PIL import Image as pilImage\n",
    "\n",
    "\n",
    "# can we do this without reading image?\n",
    "def get_image_size(path):\n",
    "    pil_im = pilImage.open(path)\n",
    "    return pil_im.width, pil_im.height"
   ]
  },
  {
   "cell_type": "code",
   "execution_count": null,
   "metadata": {},
   "outputs": [],
   "source": [
    "# hide\n",
    "get_image_size(\"../data/projects/bbox/pics/red400x640.png\")"
   ]
  },
  {
   "cell_type": "markdown",
   "metadata": {},
   "source": [
    "### Draw resized Image\n",
    "\n",
    "`ipyannotar` will rezise the image so it fits inside the Canvas. Over the process, the dimensions ratio will mantain constans."
   ]
  },
  {
   "cell_type": "code",
   "execution_count": null,
   "metadata": {},
   "outputs": [],
   "source": [
    "#export\n",
    "\n",
    "def draw_img(canvas, file, clear=False, has_border=False):\n",
    "    \"\"\"\n",
    "    draws resized image on canvas and returns scale used\n",
    "    \"\"\"\n",
    "    with hold_canvas(canvas):\n",
    "        if clear:\n",
    "            canvas.clear()\n",
    "\n",
    "        sprite1 = Image.from_file(file)\n",
    "\n",
    "        width_canvas, height_canvas = canvas.width, canvas.height\n",
    "        width_img, height_img = get_image_size(file)\n",
    "\n",
    "        ratio_canvas = float(width_canvas) / height_canvas\n",
    "        ratio_img = float(width_img) / height_img\n",
    "\n",
    "        if ratio_img > ratio_canvas:\n",
    "            # wider then canvas, scale to canvas width\n",
    "            scale = width_canvas / width_img\n",
    "        else:\n",
    "            # taller then canvas, scale to canvas hight\n",
    "            scale = height_canvas / height_img\n",
    "\n",
    "        image_width = width_img * min(1, scale)\n",
    "        image_height = height_img * min(1, scale)\n",
    "        image_x = 0\n",
    "        image_y = 0\n",
    "\n",
    "        if has_border:\n",
    "            canvas.stroke_rect(x=0, y=0, width=image_width, height=image_height)\n",
    "            image_width -= 2\n",
    "            image_height -= 2\n",
    "            image_x, image_y = 1, 1\n",
    "\n",
    "        canvas.draw_image(sprite1,\n",
    "                          image_x,\n",
    "                          image_y,\n",
    "                          width=image_width,\n",
    "                          height=image_height)\n",
    "        return scale"
   ]
  },
  {
   "cell_type": "code",
   "execution_count": null,
   "metadata": {},
   "outputs": [],
   "source": [
    "# hide\n",
    "file = \"../data/projects/bbox/pics/red400x640.png\"\n",
    "canvas = Canvas(width=300, height=300)\n",
    "draw_bg(canvas)\n",
    "scale = draw_img(canvas, file)\n",
    "\n",
    "canvas"
   ]
  },
  {
   "cell_type": "code",
   "execution_count": null,
   "metadata": {},
   "outputs": [],
   "source": [
    "# hide\n",
    "file = \"../data/projects/bbox/pics/green640x400.png\"\n",
    "canvas = Canvas(width=300, height=300)\n",
    "draw_bg(canvas)\n",
    "scale = draw_img(canvas, file)\n",
    "print(scale)\n",
    "canvas"
   ]
  },
  {
   "cell_type": "markdown",
   "metadata": {},
   "source": [
    "## Catch Drawing Events\n",
    "\n",
    "drawing sequence:\n",
    "\n",
    "- mouse press\n",
    "- mouse move\n",
    "- mouse release\n",
    "\n",
    "The event only happens inside the area covered by the image"
   ]
  },
  {
   "cell_type": "code",
   "execution_count": null,
   "metadata": {},
   "outputs": [],
   "source": [
    "# hide\n",
    "file = \"../data/projects/bbox/pics/green640x400.png\"\n",
    "canvas = Canvas(width=300, height=300)\n",
    "draw_bg(canvas)\n",
    "scale = draw_img(canvas, file)\n",
    "print(scale)"
   ]
  },
  {
   "cell_type": "code",
   "execution_count": null,
   "metadata": {},
   "outputs": [],
   "source": [
    "# hide\n",
    "debug_view = Output(layout={'border': '1px solid black'})\n",
    "\n",
    "state = {'active': False}\n",
    "\n",
    "\n",
    "@debug_view.capture(clear_output=True)\n",
    "def show_state():\n",
    "    print(state)\n",
    "\n",
    "\n",
    "@debug_view.capture(clear_output=True)\n",
    "def update_start(x, y):\n",
    "    print('start')\n",
    "    state['active'] = True\n",
    "    state['start'] = (x, y)\n",
    "    # reset end\n",
    "    state['end'] = state['start']\n",
    "    show_state()\n",
    "\n",
    "\n",
    "@debug_view.capture(clear_output=True)\n",
    "def update_state(x, y):\n",
    "    if state['active']:\n",
    "        state['end'] = (x, y)\n",
    "        show_state()\n",
    "\n",
    "\n",
    "@debug_view.capture(clear_output=True)\n",
    "def update_end(x, y):\n",
    "    state['active'] = False\n",
    "    state['end'] = (x, y)\n",
    "    show_state()\n",
    "\n",
    "\n",
    "canvas.on_mouse_down(update_start)\n",
    "canvas.on_mouse_move(update_state)\n",
    "canvas.on_mouse_up(update_end)"
   ]
  },
  {
   "cell_type": "code",
   "execution_count": null,
   "metadata": {},
   "outputs": [],
   "source": [
    "# hide\n",
    "canvas"
   ]
  },
  {
   "cell_type": "code",
   "execution_count": null,
   "metadata": {},
   "outputs": [],
   "source": [
    "# hide\n",
    "debug_view"
   ]
  },
  {
   "cell_type": "code",
   "execution_count": null,
   "metadata": {},
   "outputs": [],
   "source": [
    "# hide\n",
    "a = Image.from_file(\"../data/projects/bbox/pics/test200x200.png\")"
   ]
  },
  {
   "cell_type": "code",
   "execution_count": null,
   "metadata": {},
   "outputs": [],
   "source": [
    "#export\n",
    "\n",
    "def points2bbox_coords(start_x, start_y, end_x, end_y) -> Dict[str, float]:\n",
    "    min_x, max_x = sorted((start_x, end_x))\n",
    "    min_y, max_y = sorted((start_y, end_y))\n",
    "    return {'x': min_x, 'y': min_y, 'width': max_x - min_x, 'height': max_y - min_y}"
   ]
  },
  {
   "cell_type": "code",
   "execution_count": null,
   "metadata": {},
   "outputs": [],
   "source": [
    "#export\n",
    "\n",
    "def coords_point2bbox(bbox_coords: Dict[str, float]) -> List[float]:\n",
    "    return [bbox_coords['x'],\n",
    "            bbox_coords['y'],\n",
    "            bbox_coords['width'],\n",
    "            bbox_coords['height']]"
   ]
  },
  {
   "cell_type": "code",
   "execution_count": null,
   "metadata": {},
   "outputs": [],
   "source": [
    "#export\n",
    "\n",
    "def coords_scaled(bbox_coords: List[float], image_scale: float):\n",
    "    return [value * image_scale for value in bbox_coords]"
   ]
  },
  {
   "cell_type": "code",
   "execution_count": null,
   "metadata": {},
   "outputs": [],
   "source": [
    "#exporti\n",
    "\n",
    "class BBoxLayer(IntEnum):\n",
    "    bg = 0\n",
    "    image = 1\n",
    "    box = 2\n",
    "    highlight = 3\n",
    "    drawing = 4"
   ]
  },
  {
   "cell_type": "code",
   "execution_count": null,
   "metadata": {},
   "outputs": [],
   "source": [
    "#exporti\n",
    "\n",
    "class BBoxCanvasState(BaseState):\n",
    "    image_path: Optional[str]\n",
    "    bbox_coords: List[BboxCoordinate] = []\n",
    "    image_scale: float = 1\n",
    "    bbox_selected: Optional[int]\n",
    "    height: Optional[float]\n",
    "    width: Optional[float]"
   ]
  },
  {
   "cell_type": "code",
   "execution_count": null,
   "metadata": {},
   "outputs": [],
   "source": [
    "#exporti\n",
    "\n",
    "class BBoxCanvasGUI(HBox):\n",
    "    debug_output = Output(layout={'border': '1px solid black'})\n",
    "\n",
    "    def __init__(self, state: BBoxCanvasState, has_border: bool = False):\n",
    "        super().__init__()\n",
    "\n",
    "        self._state = state\n",
    "        self._start_point = ()\n",
    "        self.is_drawing = False\n",
    "        self.has_border = has_border\n",
    "        self.canvas_bbox_coords = {}\n",
    "\n",
    "        # do not stick bbox to borders\n",
    "        self.padding = 2\n",
    "\n",
    "        # Define each of the children...\n",
    "        self._image = Image(layout=Layout(display='flex',\n",
    "                                          justify_content='center',\n",
    "                                          align_items='center',\n",
    "                                          align_content='center',\n",
    "                                          overflow='hidden'))\n",
    "        self.multi_canvas = MultiCanvas(\n",
    "            len(BBoxLayer),\n",
    "            width=self._state.width,\n",
    "            height=self._state.height\n",
    "        )\n",
    "\n",
    "        self.im_name_box = Label()\n",
    "\n",
    "        children = [VBox([self.multi_canvas, self.im_name_box])]\n",
    "        self.children = children\n",
    "        draw_bg(self.multi_canvas[BBoxLayer.bg])\n",
    "\n",
    "        # link drawing events\n",
    "        self.multi_canvas[BBoxLayer.drawing].on_mouse_move(self._update_pos)\n",
    "        self.multi_canvas[BBoxLayer.drawing].on_mouse_down(self._start_drawing)\n",
    "        self.multi_canvas[BBoxLayer.drawing].on_mouse_up(self._stop_drawing)\n",
    "\n",
    "    @property\n",
    "    def highlight(self) -> Optional[dict]:\n",
    "        return self._state.bbox_coords[self.bbox_selected]\n",
    "\n",
    "    @highlight.setter\n",
    "    def highlight(self, index: int):\n",
    "        self.clear_layer(BBoxLayer.highlight)\n",
    "\n",
    "        # unhighlight when double click\n",
    "        if self._state.bbox_coords and self._state.bbox_selected == index:\n",
    "            self._state.set_quietly('bbox_selected', None)\n",
    "            return\n",
    "        bbox_coords = list(asdict(self._state.bbox_coords[index]).values())\n",
    "        bbox_coords = coords_scaled(bbox_coords, self._state.image_scale)\n",
    "        bbox_coords = BboxCoordinate(*bbox_coords)\n",
    "\n",
    "        draw_bounding_box(\n",
    "            self.multi_canvas[BBoxLayer.highlight],\n",
    "            bbox_coords,\n",
    "            stroke_color='black',\n",
    "            border_ratio=3,\n",
    "            color='yellow'\n",
    "        )\n",
    "\n",
    "        self._state.set_quietly('bbox_selected', index)\n",
    "\n",
    "    @debug_output.capture(clear_output=False)\n",
    "    def _update_pos(self, x, y):\n",
    "        # print(f\"-> BBoxCanvasGUI::_update_post({x}, {y})\")\n",
    "        if self.is_drawing:\n",
    "            self.canvas_bbox_coords = points2bbox_coords(*self._start_point, x, y)\n",
    "            self.draw_bbox(self.canvas_bbox_coords)\n",
    "            # bbox should not cross the canvas border:\n",
    "            if self._invalid_coords(x, y):\n",
    "                print(' !! Out of canvas border !!')\n",
    "                self._stop_drawing(x, y)\n",
    "        # print(f\"<- BBoxCanvasGUI::_update_post({x}, {y})\")\n",
    "\n",
    "    def _invalid_coords(self, x, y) -> bool:\n",
    "        return (\n",
    "            self.canvas_bbox_coords[\"x\"] + self.canvas_bbox_coords[\"width\"] >\n",
    "            self.multi_canvas.width - self.padding or\n",
    "            self.canvas_bbox_coords[\"y\"] + self.canvas_bbox_coords[\"height\"] >\n",
    "            self.multi_canvas.height - self.padding or\n",
    "            self.canvas_bbox_coords[\"x\"] < self.padding or\n",
    "            self.canvas_bbox_coords[\"y\"] < self.padding)\n",
    "\n",
    "    @debug_output.capture(clear_output=False)\n",
    "    def _stop_drawing(self, x, y):\n",
    "        # print(f\"-> BBoxCanvasGUI::_stop_drawing({x}, {y})\")\n",
    "        self.is_drawing = False\n",
    "\n",
    "        # if something is drawn\n",
    "        if self.canvas_bbox_coords:\n",
    "            # if bbox is not human visible, clean:\n",
    "            if (self.canvas_bbox_coords['width'] < 10 or\n",
    "                    self.canvas_bbox_coords['height'] < 10):\n",
    "                self.clear_layer(BBoxLayer.drawing)\n",
    "                print(\" !! too small bbox drawn !!\")\n",
    "            else:  # otherwise, save bbox values to backend\n",
    "                tmp_bbox_coords = deepcopy(self._state.bbox_coords)\n",
    "                tmp_bbox_coords.append(\n",
    "                    BboxCoordinate(\n",
    "                        **{k: v / self._state.image_scale for k, v in self.canvas_bbox_coords.items()}  # noqa: E501\n",
    "                    )\n",
    "                )\n",
    "                self._state.bbox_coords = tmp_bbox_coords\n",
    "            self.canvas_bbox_coords = {}\n",
    "        # print(f\"<- BBoxCanvasGUI::_stop_drawing({x}, {y})\")\n",
    "\n",
    "    def draw_bbox(self, canvas_bbox_coords: dict, color='white'):\n",
    "        # print('-> Observe canvas_coords: ', canvas_bbox_coords)\n",
    "        if not canvas_bbox_coords:\n",
    "            self.clear_layer(BBoxLayer.box)\n",
    "            self._state.bbox_coords = []\n",
    "            return\n",
    "\n",
    "        coords = BboxCoordinate(*canvas_bbox_coords.values())\n",
    "\n",
    "        draw_bounding_box(\n",
    "            self.multi_canvas[BBoxLayer.drawing],\n",
    "            coords,\n",
    "            color='white',\n",
    "            border_ratio=2,\n",
    "            clear=True\n",
    "        )\n",
    "        # print('<- Observe canvas_coords')\n",
    "\n",
    "    def clear_layer(self, layer: int):\n",
    "        self.multi_canvas[layer].clear()\n",
    "\n",
    "    @debug_output.capture(clear_output=True)\n",
    "    def _start_drawing(self, x, y):\n",
    "        # print(f\"-> BBoxCanvasGUI::_start_drawing({x}, {y})\")\n",
    "        self._start_point = (x, y)\n",
    "        self.is_drawing = True\n",
    "        # print(f\"<- BBoxCanvasGUI::_start_drawing({x}, {y})\")"
   ]
  },
  {
   "cell_type": "code",
   "execution_count": null,
   "metadata": {},
   "outputs": [],
   "source": [
    "# it can highlight\n",
    "\n",
    "bbox_canvas_state = BBoxCanvasState(\n",
    "    **{\n",
    "        'width': 100,\n",
    "        'height': 100,\n",
    "        'bbox_coords': [BboxCoordinate(**{'x': 10, 'y': 20, 'width': 50, 'height': 50})]\n",
    "    }\n",
    ")\n",
    "\n",
    "gui = BBoxCanvasGUI(bbox_canvas_state)\n",
    "gui.highlight = 0\n",
    "gui"
   ]
  },
  {
   "cell_type": "code",
   "execution_count": null,
   "metadata": {},
   "outputs": [],
   "source": [
    "#exporti\n",
    "\n",
    "class BBoxVideoCanvasGUI(BBoxCanvasGUI):\n",
    "    debug_output = Output(layout={'border': '1px solid black'})\n",
    "\n",
    "    def __init__(self, state: BBoxCanvasState, has_border: bool = False):\n",
    "        super().__init__(state, has_border)\n",
    "\n",
    "    @property\n",
    "    def highlight(self) -> Optional[dict]:\n",
    "        return self._state.bbox_coords[self.bbox_selected]\n",
    "\n",
    "    @highlight.setter\n",
    "    def highlight(self, index: int):\n",
    "        self.clear_layer(BBoxLayer.highlight)\n",
    "\n",
    "        # unhighlight when double click\n",
    "        if self._state.bbox_coords and self._state.bbox_selected == index:\n",
    "            self._state.set_quietly('bbox_selected', None)\n",
    "            return\n",
    "\n",
    "        bbox_coords = list(asdict(self._state.bbox_coords[index]).values())\n",
    "        bbox_coords = coords_scaled(bbox_coords[:4], self._state.image_scale)\n",
    "        bbox_coords = BboxCoordinate(*bbox_coords)\n",
    "\n",
    "        draw_bounding_box(\n",
    "            self.multi_canvas[BBoxLayer.highlight],\n",
    "            bbox_coords,\n",
    "            stroke_color='black',\n",
    "            border_ratio=3,\n",
    "            color='yellow'\n",
    "        )\n",
    "\n",
    "        self._state.set_quietly('bbox_selected', index)\n",
    "\n",
    "    @debug_output.capture(clear_output=False)\n",
    "    def _stop_drawing(self, x, y):\n",
    "        #print(f\"-> BBoxVideoCanvasGUI::_stop_drawing({x}, {y})\")\n",
    "        self.is_drawing = False\n",
    "\n",
    "        # if something is drawn\n",
    "        if self.canvas_bbox_coords:\n",
    "            # if bbox is not human visible, clean:\n",
    "            if (self.canvas_bbox_coords['width'] < 10 or\n",
    "                    self.canvas_bbox_coords['height'] < 10):\n",
    "                self.clear_layer(BBoxLayer.drawing)\n",
    "                print(\" !! too small bbox drawn !!\")\n",
    "            else:  # otherwise, save bbox values to backend\n",
    "                tmp_bbox_coords = deepcopy(self._state.bbox_coords)\n",
    "                tmp_bbox_coords.append(\n",
    "                    BboxVideoCoordinate(**{\n",
    "                        **{k: v / self._state.image_scale for k, v in self.canvas_bbox_coords.items()},  # noqa: E501\n",
    "                        **{'id': str(len(self._state.bbox_coords))}  # TODO::improve id generation\n",
    "                    })\n",
    "                )\n",
    "                self._state.bbox_coords = tmp_bbox_coords\n",
    "            self.canvas_bbox_coords = {}\n",
    "        # print(f\"<- BBoxVideoCanvasGUI::_stop_drawing({x}, {y})\")\n",
    "\n",
    "    @debug_output.capture(clear_output=False)\n",
    "    def draw_bbox(self, canvas_bbox_coords: dict, color='white'):\n",
    "        # print('-> Observe canvas_coords: ', canvas_bbox_coords)\n",
    "        if not canvas_bbox_coords:\n",
    "            self.clear_layer(BBoxLayer.box)\n",
    "            self._state.bbox_coords = []\n",
    "            return\n",
    "\n",
    "        coords = BboxCoordinate(*list(canvas_bbox_coords.values())[:4])\n",
    "\n",
    "        draw_bounding_box(\n",
    "            self.multi_canvas[BBoxLayer.drawing],\n",
    "            coords,\n",
    "            color='white',\n",
    "            border_ratio=2,\n",
    "            clear=True\n",
    "        )"
   ]
  },
  {
   "cell_type": "code",
   "execution_count": null,
   "metadata": {},
   "outputs": [],
   "source": [
    "# it can highlight\n",
    "\n",
    "bbox_canvas_state = BBoxCanvasState(\n",
    "    **{\n",
    "        'width': 100,\n",
    "        'height': 100,\n",
    "        'bbox_coords': [\n",
    "            BboxVideoCoordinate(**{'x': 10, 'y': 20, 'width': 50, 'height': 50, 'id': 'object 01'})\n",
    "        ]\n",
    "    }\n",
    ")\n",
    "\n",
    "gui = BBoxVideoCanvasGUI(bbox_canvas_state)\n",
    "gui.highlight = 0\n",
    "gui"
   ]
  },
  {
   "cell_type": "code",
   "execution_count": null,
   "metadata": {},
   "outputs": [],
   "source": [
    "#exporti\n",
    "\n",
    "class BBoxCanvasController:\n",
    "    \"\"\"\n",
    "    Handle the GUI and state communication\n",
    "    \"\"\"\n",
    "    debug_output = Output(layout={'border': '1px solid black'})\n",
    "\n",
    "    def __init__(self, gui: BBoxCanvasGUI, state: BBoxCanvasState):\n",
    "        self._state = state\n",
    "        self._gui = gui\n",
    "\n",
    "        state.subscribe(self._draw_all_bbox, 'bbox_coords')\n",
    "        state.subscribe(self._draw_image, 'image_path')\n",
    "        pub.subscribe(self._draw_all_bbox, f'{state.root_topic}.coord_changed')\n",
    "        self.bbox = BoundingBox()\n",
    "\n",
    "    @debug_output.capture(clear_output=True)\n",
    "    def _draw_all_bbox(self, bbox_coords: List[BboxCoordinate]):\n",
    "        # print(f\"-> BBoxCanvasController::_draw_all_bbox: {bbox_coords}\")\n",
    "        self._gui.clear_layer(BBoxLayer.box)\n",
    "        self._gui.clear_layer(BBoxLayer.highlight)\n",
    "        self._gui.clear_layer(BBoxLayer.drawing)\n",
    "\n",
    "        all_bbox = []\n",
    "        for bbox_coord in bbox_coords:\n",
    "            coord = list(asdict(bbox_coord).values())\n",
    "            coord = coords_scaled(coord, self._state.image_scale)\n",
    "            all_bbox.append(BboxCoordinate(*coord))\n",
    "\n",
    "        self.bbox.draw(\n",
    "            canvas=self._gui.multi_canvas[BBoxLayer.box],\n",
    "            coords=all_bbox,\n",
    "            clear=False\n",
    "        )\n",
    "        # print(f\"<- BBoxCanvasController::_draw_all_bbox\")\n",
    "\n",
    "    def clear_all_bbox(self):\n",
    "        self._gui.clear_layer(BBoxLayer.box)\n",
    "        self._gui.clear_layer(BBoxLayer.highlight)\n",
    "        self._gui.clear_layer(BBoxLayer.drawing)\n",
    "        self._state.bbox_coords = []\n",
    "\n",
    "    @debug_output.capture(clear_output=True)\n",
    "    def _draw_image(self, image_path: str):\n",
    "        # print(f\"-> _draw_image {image_path}\")\n",
    "        self.clear_all_bbox()\n",
    "        self._state.image_scale = draw_img(\n",
    "            self._gui.multi_canvas[BBoxLayer.image],\n",
    "            image_path,\n",
    "            clear=True,\n",
    "            has_border=self._gui.has_border\n",
    "        )\n",
    "        self._gui.im_name_box.value = Path(image_path).name\n",
    "        # print(f\"<- _draw_image {image_path}\")"
   ]
  },
  {
   "cell_type": "code",
   "execution_count": null,
   "metadata": {},
   "outputs": [],
   "source": [
    "#exporti\n",
    "\n",
    "class BBoxVideoCanvasController(BBoxCanvasController):\n",
    "    debug_output = Output(layout={'border': '1px solid black'})\n",
    "\n",
    "    def __init__(self, gui: BBoxCanvasGUI, state: BBoxCanvasState):\n",
    "        super().__init__(gui, state)\n",
    "\n",
    "    @debug_output.capture(clear_output=True)\n",
    "    def _draw_all_bbox(self, bbox_coords: List[BboxVideoCoordinate]):\n",
    "        #print(f\"-> BBoxVideoCanvasController::_draw_all_bbox: {bbox_coords}\")\n",
    "        self._gui.clear_layer(BBoxLayer.box)\n",
    "        self._gui.clear_layer(BBoxLayer.highlight)\n",
    "        self._gui.clear_layer(BBoxLayer.drawing)\n",
    "\n",
    "        all_bbox = []\n",
    "        for bbox_coord in bbox_coords:\n",
    "            coord = list(asdict(bbox_coord).values())[:4]\n",
    "            coord = coords_scaled(coord, self._state.image_scale)\n",
    "            all_bbox.append(BboxCoordinate(*coord))\n",
    "\n",
    "        self.bbox.draw(\n",
    "            canvas=self._gui.multi_canvas[BBoxLayer.box],\n",
    "            coords=all_bbox,\n",
    "            clear=False\n",
    "        )"
   ]
  },
  {
   "cell_type": "code",
   "execution_count": null,
   "metadata": {},
   "outputs": [],
   "source": [
    "#export\n",
    "\n",
    "class BBoxCanvas(BBoxCanvasGUI):\n",
    "    \"\"\"\n",
    "    Represents canvas holding image and bbox ontop.\n",
    "    Gives user an ability to draw a bbox with mouse.\n",
    "    \"\"\"\n",
    "\n",
    "    def __init__(self, width, height, has_border: bool = False):\n",
    "        self.state = BBoxCanvasState(\n",
    "            uuid=id(self),\n",
    "            **{'width': width, 'height': height}\n",
    "        )\n",
    "        super().__init__(state=self.state, has_border=has_border)\n",
    "        self._controller = BBoxCanvasController(gui=self, state=self.state)\n",
    "        self._bbox_history = []\n",
    "\n",
    "    def undo_bbox(self):\n",
    "        if self.state.bbox_coords:\n",
    "            tmp_bbox_coords = deepcopy(self.state.bbox_coords)\n",
    "            removed_bbox = tmp_bbox_coords.pop()\n",
    "            self._bbox_history = [removed_bbox]\n",
    "            self.state.bbox_coords = tmp_bbox_coords\n",
    "\n",
    "    def redo_bbox(self):\n",
    "        if self._bbox_history:\n",
    "            tmp_bbox_coords = deepcopy(self.state.bbox_coords)\n",
    "            tmp_bbox_coords.append(self._bbox_history.pop())\n",
    "            self.state.bbox_coords = tmp_bbox_coords\n",
    "\n",
    "    def clear_all_bbox(self):\n",
    "        self._controller.clear_all_bbox()\n",
    "\n",
    "    def observe_client_ready(self, cb=None):\n",
    "        self.multi_canvas.on_client_ready(cb)"
   ]
  },
  {
   "cell_type": "markdown",
   "metadata": {},
   "source": [
    "![](http://www.plantuml.com/plantuml/png/bP5DQiCm48NtEiL0DmdK5yWY1DehT2t6qZWnbJL6FtPo-rfIxQIj25JWXVK-FTwyEVc0BiJ125I17NnuSl0oN_f0Gh4DZWsyePtG2o6Is1pBxm46Zfv0ysp5sN4SuTtXtDkpA41pxDnYG5OVWAtCjCpqUlz8o9n3wcyBmpn2nmu8rGL6xXVCmS0J2LXEBSWcbcjeZd2ttrrVuRRFCfe0FYf5tdVHW4AVdfLJInP73MtBLwcOdVOLTisHmcSqCsGy0SS0t85AnD-dMyQr0Xwt1ZQBc3QIfErvRVfubv_KNwZ_PR1QfAzMpOIcrnW8P1bGFlPKx_bvRtdWYTmD_836mCwoRQRUzwsXVK7g5ieGMlWLj4NrkQuG0_tOucaHuc2-0000)"
   ]
  },
  {
   "cell_type": "code",
   "execution_count": null,
   "metadata": {},
   "outputs": [],
   "source": [
    "#export\n",
    "\n",
    "class BBoxVideoCanvas(BBoxVideoCanvasGUI):\n",
    "    def __init__(self, width, height, has_border: bool = False, drawing_enabled: bool = True):\n",
    "        self.state = BBoxCanvasState(\n",
    "            uuid=id(self),\n",
    "            **{'width': width, 'height': height}\n",
    "        )\n",
    "        self.drawing_enabled = drawing_enabled\n",
    "        super().__init__(state=self.state, has_border=has_border)\n",
    "        if not drawing_enabled:\n",
    "            self.multi_canvas = MultiCanvas(\n",
    "                len(BBoxLayer),\n",
    "                width=self._state.width,\n",
    "                height=self._state.height\n",
    "            )\n",
    "            self.children = [VBox([self.multi_canvas, self.im_name_box])]\n",
    "\n",
    "        self._controller = BBoxVideoCanvasController(gui=self, state=self.state)"
   ]
  },
  {
   "cell_type": "code",
   "execution_count": null,
   "metadata": {},
   "outputs": [],
   "source": [
    "# hide\n",
    "gui = BBoxCanvas(width=100, height=100, has_border=True)\n",
    "gui"
   ]
  },
  {
   "cell_type": "code",
   "execution_count": null,
   "metadata": {},
   "outputs": [],
   "source": [
    "# hide\n",
    "video = BBoxVideoCanvas(width=100, height=100, has_border=True, drawing_enabled=False)\n",
    "video"
   ]
  },
  {
   "cell_type": "code",
   "execution_count": null,
   "metadata": {},
   "outputs": [],
   "source": [
    "video.state"
   ]
  },
  {
   "cell_type": "code",
   "execution_count": null,
   "metadata": {},
   "outputs": [],
   "source": [
    "gui.state"
   ]
  },
  {
   "cell_type": "code",
   "execution_count": null,
   "metadata": {},
   "outputs": [],
   "source": [
    "# hide\n",
    "gui.debug_output"
   ]
  },
  {
   "cell_type": "code",
   "execution_count": null,
   "metadata": {},
   "outputs": [],
   "source": [
    "gui._controller.debug_output"
   ]
  },
  {
   "cell_type": "code",
   "execution_count": null,
   "metadata": {},
   "outputs": [],
   "source": [
    "gui._state.bbox_coords"
   ]
  },
  {
   "cell_type": "code",
   "execution_count": null,
   "metadata": {},
   "outputs": [],
   "source": [
    "# hide\n",
    "# gui._state.image_path = \"../data/projects/bbox/pics/red400x640.png\"\n",
    "gui._state.image_path = '../data/projects/im2im1/class_images/blocks_1.png'"
   ]
  },
  {
   "cell_type": "code",
   "execution_count": null,
   "metadata": {},
   "outputs": [],
   "source": [
    "# hide\n",
    "\n",
    "tpm_bbox_coords = gui._state.bbox_coords\n",
    "# tpm_bbox_coords[0] = {'x':5, 'y': 10, 'width': 5, 'height': 5}\n",
    "tpm_bbox_coords.append(BboxCoordinate(*[5, 10, 20, 30]))\n",
    "gui._state.bbox_coords = tpm_bbox_coords"
   ]
  },
  {
   "cell_type": "code",
   "execution_count": null,
   "metadata": {},
   "outputs": [],
   "source": [
    "gui._state.image_scale"
   ]
  },
  {
   "cell_type": "code",
   "execution_count": null,
   "metadata": {},
   "outputs": [],
   "source": [
    "# hide\n",
    "\n",
    "tpm_bbox_coords = gui._state.bbox_coords\n",
    "tpm_bbox_coords.append(BboxCoordinate(**{'x': 10, 'y': 10, 'width': 20, 'height': 30}))\n",
    "gui._state.bbox_coords = tpm_bbox_coords"
   ]
  },
  {
   "cell_type": "code",
   "execution_count": null,
   "metadata": {},
   "outputs": [],
   "source": [
    "gui._state.bbox_coords"
   ]
  },
  {
   "cell_type": "code",
   "execution_count": null,
   "metadata": {},
   "outputs": [],
   "source": [
    "# it can undo bbox_coords\n",
    "\n",
    "assert len(gui._state.bbox_coords) == 2\n",
    "gui.undo_bbox()\n",
    "assert len(gui._state.bbox_coords) == 1\n",
    "gui.undo_bbox()"
   ]
  },
  {
   "cell_type": "code",
   "execution_count": null,
   "metadata": {},
   "outputs": [],
   "source": [
    "# it can redo the last undo\n",
    "\n",
    "assert len(gui._state.bbox_coords) == 0\n",
    "gui.redo_bbox()\n",
    "assert len(gui._state.bbox_coords) == 1\n",
    "gui.redo_bbox()\n",
    "assert len(gui._state.bbox_coords) == 1"
   ]
  },
  {
   "cell_type": "code",
   "execution_count": null,
   "metadata": {},
   "outputs": [],
   "source": [
    "def scaled(coords):\n",
    "    return {k: (v / gui._state.image_scale) for k, v in coords.items()}\n",
    "\n",
    "\n",
    "# it cant draw small bbox\n",
    "small_coord = {'height': 5, 'width': 5, 'x': 5, 'y': 5}\n",
    "gui.canvas_bbox_coords = small_coord\n",
    "\n",
    "gui._stop_drawing(small_coord['x'], small_coord['y'])  # mouse up\n",
    "\n",
    "assert scaled(small_coord) not in gui._state.bbox_coords\n",
    "\n",
    "# it can draw bbox\n",
    "bigger_coord = {'height': 11, 'width': 11, 'x': 11, 'y': 11}\n",
    "gui.canvas_bbox_coords = bigger_coord\n",
    "\n",
    "gui._stop_drawing(bigger_coord['x'], bigger_coord['y'])  # mouse up\n",
    "assert BboxCoordinate(**scaled(bigger_coord)) in gui._state.bbox_coords"
   ]
  },
  {
   "cell_type": "code",
   "execution_count": null,
   "metadata": {},
   "outputs": [],
   "source": [
    "gui._state"
   ]
  },
  {
   "cell_type": "code",
   "execution_count": null,
   "metadata": {},
   "outputs": [],
   "source": [
    "gui.clear_all_bbox()"
   ]
  },
  {
   "cell_type": "code",
   "execution_count": null,
   "metadata": {},
   "outputs": [],
   "source": [
    "#hide\n",
    "from nbdev.export import *\n",
    "notebook2script()"
   ]
  },
  {
   "cell_type": "code",
   "execution_count": null,
   "metadata": {},
   "outputs": [],
   "source": []
  }
 ],
 "metadata": {
  "kernelspec": {
   "display_name": "Python 3",
   "language": "python",
   "name": "python3"
  }
 },
 "nbformat": 4,
 "nbformat_minor": 4
}
