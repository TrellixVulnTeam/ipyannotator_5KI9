{
 "cells": [
  {
   "cell_type": "code",
   "execution_count": null,
   "metadata": {},
   "outputs": [],
   "source": [
    "# hide\n",
    "%load_ext autoreload\n",
    "%autoreload 2"
   ]
  },
  {
   "cell_type": "code",
   "execution_count": null,
   "metadata": {},
   "outputs": [],
   "source": [
    "# hide\n",
    "from nbdev import *"
   ]
  },
  {
   "cell_type": "code",
   "execution_count": null,
   "metadata": {},
   "outputs": [],
   "source": [
    "# hide\n",
    "import json\n",
    "import ipywidgets as widgets\n",
    "\n",
    "from pathlib import Path\n",
    "from tqdm import tqdm\n",
    "\n",
    "from ipyannotator.base import Settings\n",
    "from ipyannotator.mltypes import InputImage, OutputImageLabel\n",
    "from ipyannotator.annotator import Annotator\n",
    "from ipyannotator.datasets.factory_legacy import DS, get_settings, _combine_train_test\n",
    "from ipyannotator.helpers import Tutorial"
   ]
  },
  {
   "cell_type": "markdown",
   "metadata": {},
   "source": [
    "# Tutorial: Image classification"
   ]
  },
  {
   "cell_type": "markdown",
   "metadata": {},
   "source": [
    "## Select Dataset"
   ]
  },
  {
   "cell_type": "code",
   "execution_count": null,
   "metadata": {},
   "outputs": [],
   "source": [
    "# You can choose between 3 datasets ['cifar10', 'oxford_flowers', 'CUB_200'] that you can download.\n",
    "# We use a artifical generated classification dataset by default that doesn't require downloading.\n",
    "dataset = DS.ARTIFICIAL_CLASSIFICATION\n",
    "# dataset = DS.CIFAR10\n",
    "# dataset = DS.OXFORD102\n",
    "# dataset = DS.CUB200"
   ]
  },
  {
   "cell_type": "markdown",
   "metadata": {},
   "source": [
    "## Setup annotator"
   ]
  },
  {
   "cell_type": "code",
   "execution_count": null,
   "metadata": {},
   "outputs": [],
   "source": [
    "# get special project settings for selected dataset\n",
    "\n",
    "settings_ = get_settings(dataset)\n",
    "settings_.project_file, settings_.image_dir"
   ]
  },
  {
   "cell_type": "code",
   "execution_count": null,
   "metadata": {},
   "outputs": [],
   "source": [
    "input_ = InputImage(image_dir=settings_.image_dir,\n",
    "                    image_width=settings_.im_width,\n",
    "                    image_height=settings_.im_height)\n",
    "\n",
    "output_ = OutputImageLabel(label_dir=settings_.label_dir,\n",
    "                           label_width=settings_.label_width,\n",
    "                           label_height=settings_.label_height)\n",
    "input_.dir, output_.dir"
   ]
  },
  {
   "cell_type": "code",
   "execution_count": null,
   "metadata": {},
   "outputs": [],
   "source": [
    "anni = Annotator(input_, output_, settings_)"
   ]
  },
  {
   "cell_type": "markdown",
   "metadata": {},
   "source": [
    "## EXPLORE"
   ]
  },
  {
   "cell_type": "markdown",
   "metadata": {},
   "source": [
    "You can explore dataset with `next/previous` buttons to check visualized labels."
   ]
  },
  {
   "cell_type": "code",
   "execution_count": null,
   "metadata": {},
   "outputs": [],
   "source": [
    "# explorer = anni.explore(k=3)\n",
    "explorer = anni.explore()\n",
    "explorer"
   ]
  },
  {
   "attachments": {
    "Screenshot%20from%202022-01-28%2011-55-14.png": {
     "image/png": "[encoded data removed]"
    }
   },
   "cell_type": "markdown",
   "metadata": {},
   "source": [
    "![Screenshot%20from%202022-01-28%2011-55-14.png](attachment:Screenshot%20from%202022-01-28%2011-55-14.png)"
   ]
  },
  {
   "cell_type": "markdown",
   "metadata": {},
   "source": [
    "## CREATE"
   ]
  },
  {
   "cell_type": "code",
   "execution_count": null,
   "metadata": {},
   "outputs": [],
   "source": [
    "if dataset == DS.ARTIFICIAL_CLASSIFICATION:\n",
    "    ! rm -rf data/artificial_classification/create_results\n",
    "elif dataset == DS.CIFAR10:\n",
    "    ! rm -rf data/cifar10/create_results\n",
    "elif dataset == DS.OXFORD102:\n",
    "    ! rm -rf data/oxford-102-flowers/create_results\n",
    "elif dataset == DS.CUB200:\n",
    "    ! rm -rf data/CUB_200_2011/create_results"
   ]
  },
  {
   "cell_type": "markdown",
   "metadata": {},
   "source": [
    "You can try to annotate by hand,\n",
    "but be sure to have some pieces incorrectly annotated,\n",
    "thus you prepare good set for `improve` step below"
   ]
  },
  {
   "cell_type": "code",
   "execution_count": null,
   "metadata": {},
   "outputs": [],
   "source": [
    "creator = anni.create()\n",
    "\n",
    "creator"
   ]
  },
  {
   "attachments": {
    "image_classification_one.png": {
     "image/png": "[encoded data removed]"
    }
   },
   "cell_type": "markdown",
   "metadata": {},
   "source": [
    "![image_classification_one.png](attachment:image_classification_one.png)"
   ]
  },
  {
   "cell_type": "markdown",
   "metadata": {},
   "source": [
    "#### To imitate human work on currnt step, let's randomly annotate all the images automatically:"
   ]
  },
  {
   "cell_type": "code",
   "execution_count": null,
   "metadata": {},
   "outputs": [],
   "source": [
    "#SKIP THIS STEP IF YOU ANNOTATE MANUALLY\n",
    "\n",
    "HELPER = Tutorial(dataset, settings_.project_path)\n",
    "HELPER.annotate_randomly(creator)"
   ]
  },
  {
   "cell_type": "markdown",
   "metadata": {},
   "source": [
    "Let's get first 3 images marked for one class, depending on dataset (RED, CAT, etc..)"
   ]
  },
  {
   "cell_type": "code",
   "execution_count": null,
   "metadata": {},
   "outputs": [],
   "source": [
    "if dataset == DS.ARTIFICIAL_CLASSIFICATION:\n",
    "    #RED\n",
    "    print([k for k, v in creator.to_dict().items() if 'red.jpg' in v][:3])\n",
    "elif dataset == DS.CIFAR10:\n",
    "    #CAT\n",
    "    print([k for k, v in creator.to_dict().items() if 'cat.jpg' in v][:3])\n",
    "else:\n",
    "    pass"
   ]
  },
  {
   "cell_type": "markdown",
   "metadata": {},
   "source": [
    "## IMPROVE"
   ]
  },
  {
   "cell_type": "markdown",
   "metadata": {},
   "source": [
    "Lets group some annotators together, so we can go through all annotated images but for each classs separately.\n",
    "\n",
    "Each grid shows images belonging to the __same__ class. \n",
    "\n",
    "You should __mark all errors__ (images, which belongs to __different__ class)"
   ]
  },
  {
   "cell_type": "markdown",
   "metadata": {},
   "source": [
    "!! Dont forget to click __SAVE__ button when finished with each class:"
   ]
  },
  {
   "cell_type": "markdown",
   "metadata": {},
   "source": [
    "#### improve"
   ]
  },
  {
   "cell_type": "code",
   "execution_count": null,
   "metadata": {},
   "outputs": [],
   "source": [
    "all_improvers = anni.improve()"
   ]
  },
  {
   "cell_type": "code",
   "execution_count": null,
   "metadata": {},
   "outputs": [],
   "source": [
    "len(all_improvers)"
   ]
  },
  {
   "cell_type": "markdown",
   "metadata": {},
   "source": [
    "let's select first two classes to mark the errors"
   ]
  },
  {
   "cell_type": "code",
   "execution_count": null,
   "metadata": {},
   "outputs": [],
   "source": [
    "all_improvers[:2]"
   ]
  },
  {
   "attachments": {
    "image_classification_two.png": {
     "image/png": "[encoded data removed]"
    }
   },
   "cell_type": "markdown",
   "metadata": {},
   "source": [
    "![image_classification_two.png](attachment:image_classification_two.png)"
   ]
  },
  {
   "cell_type": "markdown",
   "metadata": {},
   "source": [
    "#### To imitate human work on current step, let's fix the incorrect annotations automatically:"
   ]
  },
  {
   "cell_type": "code",
   "execution_count": null,
   "metadata": {},
   "outputs": [],
   "source": [
    "#SKIP THIS STEP IF YOU CHECK ANNOTATIONS MANUALLY\n",
    "HELPER.fix_incorrect_annotations(all_improvers)"
   ]
  },
  {
   "cell_type": "markdown",
   "metadata": {},
   "source": [
    "Now we can get list of all marked images, which should be reclassified:"
   ]
  },
  {
   "cell_type": "code",
   "execution_count": null,
   "metadata": {},
   "outputs": [],
   "source": [
    "reclasify_this = [[c for c, v in i.to_dict().items() if v['answer']] for i in all_improvers]\n",
    "#  Show 10 files with incorrect labels\n",
    "for a in reclasify_this:\n",
    "    print(a[:10])"
   ]
  },
  {
   "cell_type": "markdown",
   "metadata": {},
   "source": [
    "### Postprocessing.."
   ]
  },
  {
   "cell_type": "markdown",
   "metadata": {},
   "source": [
    "Also, automatically generarted json file for each class can be used for further processing.\n",
    "\n",
    "Let's load one json for a random class and show filenames marked as incorrect on previous step for this class:"
   ]
  },
  {
   "cell_type": "code",
   "execution_count": null,
   "metadata": {},
   "outputs": [],
   "source": [
    "from glob import glob\n",
    "from random import sample\n",
    "import pandas as pd\n",
    "\n",
    "random_class = sample(glob(str(Path(\n",
    "    settings_.project_path) / settings_.result_dir / 'missed') + '/*'), 1)[0]\n",
    "\n",
    "random_class_annotation = pd.read_json(Path(random_class) / 'annotations.json').T\n",
    "\n",
    "random_misssed = list(\n",
    "    random_class_annotation[random_class_annotation['answer'] == True].index.values)  # noqa: E712\n",
    "\n",
    "#  show 10 files with incorrect label for the random class\n",
    "random_misssed[:10]\n",
    "\n",
    "# result may be empty, if all annotations are correct"
   ]
  }
 ],
 "metadata": {
  "kernelspec": {
   "display_name": "Python 3",
   "language": "python",
   "name": "python3"
  }
 },
 "nbformat": 4,
 "nbformat_minor": 4
}
