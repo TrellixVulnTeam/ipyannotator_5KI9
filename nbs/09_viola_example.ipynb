{
 "cells": [
  {
   "cell_type": "code",
   "execution_count": null,
   "metadata": {},
   "outputs": [],
   "source": [
    "# hide\n",
    "%load_ext autoreload\n",
    "%autoreload 2\n",
    "! rm -rf ../data/projects/bbox/viola_results"
   ]
  },
  {
   "cell_type": "markdown",
   "metadata": {},
   "source": [
    "# Voila example"
   ]
  },
  {
   "cell_type": "code",
   "execution_count": null,
   "metadata": {},
   "outputs": [],
   "source": [
    "from pathlib import Path\n",
    "from ipyannotator.storage import construct_annotation_path\n",
    "from ipyannotator.mltypes import InputImage, OutputImageBbox\n",
    "from ipyannotator.bbox_annotator import BBoxAnnotator"
   ]
  },
  {
   "cell_type": "code",
   "execution_count": null,
   "metadata": {},
   "outputs": [],
   "source": [
    "input_item = InputImage(image_dir='pics', image_width=640, image_height=400)\n",
    "output_item = OutputImageBbox()\n",
    "project_path = Path('../data/projects/bbox')\n",
    "annotation_file_path = construct_annotation_path(project_path, results_dir='viola_results')"
   ]
  },
  {
   "cell_type": "code",
   "execution_count": null,
   "metadata": {},
   "outputs": [],
   "source": [
    "BBoxAnnotator(\n",
    "    project_path=project_path,\n",
    "    input_item=input_item,\n",
    "    output_item=output_item,\n",
    "    annotation_file_path=annotation_file_path\n",
    ")"
   ]
  },
  {
   "cell_type": "code",
   "execution_count": null,
   "metadata": {},
   "outputs": [],
   "source": []
  },
  {
   "cell_type": "code",
   "execution_count": null,
   "metadata": {},
   "outputs": [],
   "source": []
  }
 ],
 "metadata": {
  "kernelspec": {
   "display_name": "Python 3",
   "language": "python",
   "name": "python3"
  }
 },
 "nbformat": 4,
 "nbformat_minor": 4
}
