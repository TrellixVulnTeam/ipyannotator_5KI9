{
 "cells": [
  {
   "cell_type": "code",
   "execution_count": null,
   "id": "b4fb4020-7a04-47eb-9629-b59535366db3",
   "metadata": {},
   "outputs": [],
   "source": [
    "#all_slow"
   ]
  },
  {
   "cell_type": "markdown",
   "id": "b464e38d-ba40-40b1-b45d-2f1140750cfa",
   "metadata": {},
   "source": [
    "### setup data for a fictive greenfield project"
   ]
  },
  {
   "cell_type": "code",
   "execution_count": null,
   "id": "1c27e27b-a51c-456a-b977-77d7eb0545ca",
   "metadata": {},
   "outputs": [],
   "source": [
    "from pathlib import Path\n",
    "import pooch"
   ]
  },
  {
   "cell_type": "code",
   "execution_count": null,
   "id": "8570f8ad-2d2a-4efe-b82b-e4ccde94d769",
   "metadata": {},
   "outputs": [],
   "source": [
    "file_path = pooch.retrieve(\n",
    "    # URL to one of Pooch's test files\n",
    "    url=\"https://s3.amazonaws.com/fast-ai-imageclas/cifar10.tgz\",\n",
    "    known_hash=\"sha256:637c5814e11aefcb6ee76d5f59c67ddc8de7f5b5077502a195b0833d1e3e4441\",\n",
    ")"
   ]
  },
  {
   "cell_type": "code",
   "execution_count": null,
   "id": "c0cb45bb-b5a0-4b0d-a1a1-2a402f1b8bab",
   "metadata": {},
   "outputs": [],
   "source": [
    "file_path"
   ]
  },
  {
   "cell_type": "code",
   "execution_count": null,
   "id": "ac3fe417-05e6-4e91-9d0b-3c1db2d318f6",
   "metadata": {},
   "outputs": [],
   "source": [
    "from ipyannotator.datasets.download import _extract_tar"
   ]
  },
  {
   "cell_type": "code",
   "execution_count": null,
   "id": "dd2d9bb8-5d08-4584-a4fd-c21b43a562bf",
   "metadata": {},
   "outputs": [],
   "source": [
    "_extract_tar(file_path, Path('/tmp'))"
   ]
  },
  {
   "cell_type": "code",
   "execution_count": null,
   "id": "93b5b0cc-4660-4dd5-918c-926c3249a90c",
   "metadata": {},
   "outputs": [],
   "source": [
    "project_root = Path('user_project')\n",
    "(project_root / 'images').mkdir(parents=True, exist_ok=True)"
   ]
  },
  {
   "cell_type": "code",
   "execution_count": null,
   "id": "3f4a6f36-45e6-4f53-af8e-35a9a16c38a3",
   "metadata": {},
   "outputs": [],
   "source": [
    "import shutil\n",
    "import random\n",
    "# copy some random images\n",
    "classes = \"airplane  automobile  bird  cat  deer  dog  frog  horse  ship  truck\".split()\n",
    "for i in range(1, 200):\n",
    "    rand_class = random.randint(0, 9)\n",
    "    shutil.copy(\n",
    "        Path('/tmp') / \"cifar10/train\" / classes[rand_class] / f\"{i:04}.png\",\n",
    "        project_root / 'images')"
   ]
  },
  {
   "cell_type": "markdown",
   "id": "0e5cca56-a7b8-4562-8bec-eb1cfea08b3a",
   "metadata": {},
   "source": [
    "## Story"
   ]
  },
  {
   "cell_type": "markdown",
   "id": "d972ee2f-4c15-422a-8526-38fa228e2c13",
   "metadata": {},
   "source": [
    "I start with a bunch of images which I need to classify. However, at the start I don't know which classes it contains (the definition of the classes might even be something ambiguous I need to come up with during the project).\n",
    "\n",
    "So I use ipyannotator to take a first look at the images."
   ]
  },
  {
   "cell_type": "code",
   "execution_count": null,
   "id": "eeaa6080-1111-4a28-a34c-7da3033d9f43",
   "metadata": {},
   "outputs": [],
   "source": [
    "from ipyannotator.mltypes import InputImage\n",
    "from ipyannotator.annotator import Annotator"
   ]
  },
  {
   "cell_type": "code",
   "execution_count": null,
   "id": "eeecc88b",
   "metadata": {},
   "outputs": [],
   "source": [
    "# todo: move Settings to ipyannotator.annotator:\n",
    "# fix legacy-daaset-factory:\n",
    "# cannot import name 'Settings' from partially initialized module 'ipyannotator.annotator'\n",
    "# (most likely due to a circular import)\n",
    "from ipyannotator.base import Settings"
   ]
  },
  {
   "cell_type": "code",
   "execution_count": null,
   "id": "6cf0de9c-0a16-4a4f-a21d-9c036d4d3727",
   "metadata": {},
   "outputs": [],
   "source": [
    "input_ = InputImage(image_dir=Path('images'))\n",
    "# gottcha, image_dir is relative to project dir\n",
    "# -> better doc &"
   ]
  },
  {
   "cell_type": "code",
   "execution_count": null,
   "id": "58021121-989d-437e-8f02-61519e2a1f83",
   "metadata": {},
   "outputs": [],
   "source": [
    "Annotator(input_).explore()\n",
    "# should work without specifiying setting just with resonable default values"
   ]
  },
  {
   "cell_type": "code",
   "execution_count": null,
   "id": "d7671934",
   "metadata": {},
   "outputs": [],
   "source": [
    "settings = Settings(project_path=Path('user_project'))"
   ]
  },
  {
   "cell_type": "code",
   "execution_count": null,
   "id": "41c42447-228b-47c1-929e-a94a88747cc8",
   "metadata": {},
   "outputs": [],
   "source": [
    "anni = Annotator(input_, settings=settings)\n",
    "# should work without specifiying outputs"
   ]
  },
  {
   "cell_type": "code",
   "execution_count": null,
   "id": "2854fad6",
   "metadata": {},
   "outputs": [],
   "source": [
    "anni.explore()"
   ]
  },
  {
   "cell_type": "code",
   "execution_count": null,
   "id": "df10ea9c-7584-4a7b-8a95-0d228d5013b6",
   "metadata": {},
   "outputs": [],
   "source": [
    "from ipyannotator.mltypes import OutputImageLabel\n",
    "\n",
    "# todo: add check for empty label dir, to give autogeneration a try.\n",
    "# Currently supported only 'class_autogenerated_' ^^ Ok, it's not very obvious haha\n",
    "# It all comes from messy Storage stuff, which should recieave a bunch of refactorings... =(\n",
    "\n",
    "output_ = OutputImageLabel(label_dir=Path('class_autogenerated_'))\n",
    "# label_dir is relateve again (I guess)"
   ]
  },
  {
   "cell_type": "code",
   "execution_count": null,
   "id": "aa04cf5e-b545-4412-a434-faa6470aedec",
   "metadata": {},
   "outputs": [],
   "source": [
    "anni = Annotator(input_, output_, settings)"
   ]
  },
  {
   "cell_type": "code",
   "execution_count": null,
   "id": "2a7461b5-9364-4965-8e89-e24e6df549b3",
   "metadata": {},
   "outputs": [],
   "source": [
    "anni.explore()\n",
    "# failes with FileNotFoundError:\n",
    "# surprise explore only works for labeled data ???\n",
    "# labels need to be created first? -> user warning, what to do, actually should work without labels\n",
    "# need proper path consistency checking and constructive user warnings / errors"
   ]
  },
  {
   "cell_type": "code",
   "execution_count": null,
   "id": "31eb7b67-7e50-44c4-9c30-df901cf3a647",
   "metadata": {},
   "outputs": [],
   "source": []
  }
 ],
 "metadata": {
  "kernelspec": {
   "display_name": "Python 3 (ipykernel)",
   "language": "python",
   "name": "python3"
  }
 },
 "nbformat": 4,
 "nbformat_minor": 5
}
