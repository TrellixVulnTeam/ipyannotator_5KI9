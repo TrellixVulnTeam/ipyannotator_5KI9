{
 "cells": [
  {
   "cell_type": "code",
   "execution_count": null,
   "metadata": {},
   "outputs": [],
   "source": [
    "# default_exp base"
   ]
  },
  {
   "cell_type": "code",
   "execution_count": null,
   "metadata": {},
   "outputs": [],
   "source": [
    "# hide\n",
    "%load_ext autoreload\n",
    "%autoreload 2"
   ]
  },
  {
   "cell_type": "code",
   "execution_count": null,
   "metadata": {},
   "outputs": [],
   "source": [
    "#exporti\n",
    "\n",
    "import json\n",
    "import random\n",
    "from pubsub import pub\n",
    "from pathlib import Path\n",
    "from typing import NamedTuple, Optional, Tuple, Any, Callable\n",
    "from pydantic import BaseModel, BaseSettings"
   ]
  },
  {
   "cell_type": "code",
   "execution_count": null,
   "metadata": {},
   "outputs": [],
   "source": [
    "#exporti\n",
    "\n",
    "def validate_project_path(project_path):\n",
    "    project_path = Path(project_path)\n",
    "    assert project_path.exists(), \"WARNING: Project path should point to \" \\\n",
    "                                  \"existing directory\"\n",
    "    assert project_path.is_dir(), \"WARNING: Project path should point to \" \\\n",
    "                                  \"existing directory\"\n",
    "    return project_path"
   ]
  },
  {
   "cell_type": "code",
   "execution_count": null,
   "metadata": {},
   "outputs": [],
   "source": [
    "# hide\n",
    "im2im_proj_path = validate_project_path('../data/projects/im2im1/')"
   ]
  },
  {
   "cell_type": "code",
   "execution_count": null,
   "metadata": {},
   "outputs": [],
   "source": [
    "#exporti\n",
    "\n",
    "class Settings(NamedTuple):\n",
    "    project_path: Path = Path('user_project')\n",
    "    project_file: Optional[Path] = None\n",
    "    image_dir: str = 'images'\n",
    "    label_dir: Optional[str] = None\n",
    "    result_dir: Optional[str] = None\n",
    "\n",
    "    im_width: int = 50\n",
    "    im_height: int = 50\n",
    "    label_width: int = 50\n",
    "    label_height: int = 50\n",
    "\n",
    "    n_cols: int = 3\n",
    "    n_rows: Optional[int] = None"
   ]
  },
  {
   "cell_type": "code",
   "execution_count": null,
   "metadata": {},
   "outputs": [],
   "source": [
    "#exporti\n",
    "\n",
    "\n",
    "def generate_subset_anno_json(project_path: Path, project_file,\n",
    "                              number_of_labels,\n",
    "                              out_filename='subset_anno.json'):\n",
    "    \"\"\"\n",
    "    generates random subset from full dataset based on <number_of_labels>\n",
    "    \"\"\"\n",
    "    if number_of_labels == -1:\n",
    "        return project_file\n",
    "\n",
    "    with project_file.open() as f:\n",
    "        data = json.load(f)\n",
    "\n",
    "    all_labels = data.values()\n",
    "    unique_labels = set(label for item_labels in all_labels for label in item_labels)\n",
    "\n",
    "    #  get <number_of_labels> random labels and generate annotation file with them:\n",
    "    assert (number_of_labels <= len(unique_labels))\n",
    "    subset_labels = random.sample([[a] for a in unique_labels], k=number_of_labels)\n",
    "    subset_annotations = {k: v for k, v in data.items() if v in subset_labels}\n",
    "\n",
    "    subset_file = Path(project_path) / out_filename\n",
    "    with subset_file.open('w', encoding='utf-8') as fi:\n",
    "        json.dump(subset_annotations, fi, ensure_ascii=False, indent=4)\n",
    "\n",
    "    return subset_file"
   ]
  },
  {
   "cell_type": "code",
   "execution_count": null,
   "metadata": {},
   "outputs": [],
   "source": [
    "#exporti\n",
    "\n",
    "class StateSettings(BaseSettings):\n",
    "    class Config:\n",
    "        validate_assignment = True\n",
    "\n",
    "\n",
    "class BaseState(StateSettings, BaseModel):\n",
    "    def __init__(self, uuid: str = None, *args, **kwargs):\n",
    "        super().__init__(*args, **kwargs)\n",
    "        self.set_quietly('_uuid', uuid)\n",
    "\n",
    "    def set_quietly(self, key: str, value: Any):\n",
    "        \"\"\"\n",
    "        Assigns a value to a state's attribute.\n",
    "\n",
    "        This function can be used to avoid that\n",
    "        the state dispatches a PyPubSub event.\n",
    "        It's very usefull to avoid event recursion,\n",
    "        ex: a component is listening for an event A\n",
    "        but it also changes the state that dispatch\n",
    "        the event A. Using set_quietly to set the\n",
    "        value at the component will avoid the recursion.\n",
    "        \"\"\"\n",
    "        object.__setattr__(self, key, value)\n",
    "\n",
    "    @property\n",
    "    def root_topic(self) -> str:\n",
    "        if hasattr(self, '_uuid') and self._uuid:  # type: ignore\n",
    "            return f'{self._uuid}.{type(self).__name__}'  # type: ignore\n",
    "\n",
    "        return type(self).__name__\n",
    "\n",
    "    def subscribe(self, change: Callable, attribute: str):\n",
    "        pub.subscribe(change, f'{self.root_topic}.{attribute}')\n",
    "\n",
    "    def __setattr__(self, key: str, value: Any):\n",
    "        self.set_quietly(key, value)\n",
    "\n",
    "        if key != '__class__':\n",
    "            pub.sendMessage(f'{self.root_topic}.{key}', **{key: value})"
   ]
  },
  {
   "cell_type": "code",
   "execution_count": null,
   "metadata": {},
   "outputs": [],
   "source": [
    "#exporti\n",
    "\n",
    "class AppWidgetState(BaseState):\n",
    "    size: Tuple[int, int] = (640, 400)\n",
    "    max_im_number: int = 1\n",
    "    index: int = 0"
   ]
  },
  {
   "cell_type": "code",
   "execution_count": null,
   "metadata": {},
   "outputs": [],
   "source": [
    "#hide\n",
    "from nbdev.export import notebook2script\n",
    "notebook2script()"
   ]
  },
  {
   "cell_type": "code",
   "execution_count": null,
   "metadata": {},
   "outputs": [],
   "source": []
  }
 ],
 "metadata": {
  "kernelspec": {
   "display_name": "Python 3 (ipykernel)",
   "language": "python",
   "name": "python3"
  }
 },
 "nbformat": 4,
 "nbformat_minor": 4
}
